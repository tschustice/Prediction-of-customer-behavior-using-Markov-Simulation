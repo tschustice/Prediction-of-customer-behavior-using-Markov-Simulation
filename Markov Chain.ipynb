{
 "cells": [
  {
   "cell_type": "markdown",
   "id": "4f9a60b2",
   "metadata": {
    "heading_collapsed": true
   },
   "source": [
    "## Simulation and prediction of customer behavior in a supermarket using Markov Chains"
   ]
  },
  {
   "cell_type": "markdown",
   "id": "be8b9721",
   "metadata": {
    "hidden": true
   },
   "source": [
    "Project done by Justus Weißmüller in September 2022"
   ]
  },
  {
   "cell_type": "markdown",
   "id": "1627df6c",
   "metadata": {
    "hidden": true
   },
   "source": [
    "Project description: The goal of this project is to predict customer behavior in a supermarket based on Markov Chains. The "
   ]
  },
  {
   "cell_type": "markdown",
   "id": "2bf129aa",
   "metadata": {},
   "source": [
    "## Import Packages"
   ]
  },
  {
   "cell_type": "code",
   "execution_count": 1,
   "id": "f38d8a48",
   "metadata": {},
   "outputs": [
    {
     "ename": "ModuleNotFoundError",
     "evalue": "No module named 'faker'",
     "output_type": "error",
     "traceback": [
      "\u001b[0;31m---------------------------------------------------------------------------\u001b[0m",
      "\u001b[0;31mModuleNotFoundError\u001b[0m                       Traceback (most recent call last)",
      "Input \u001b[0;32mIn [1]\u001b[0m, in \u001b[0;36m<cell line: 10>\u001b[0;34m()\u001b[0m\n\u001b[1;32m      7\u001b[0m \u001b[38;5;28;01mimport\u001b[39;00m \u001b[38;5;21;01mrandom\u001b[39;00m\n\u001b[1;32m      8\u001b[0m \u001b[38;5;28;01mfrom\u001b[39;00m \u001b[38;5;21;01mnumpy\u001b[39;00m\u001b[38;5;21;01m.\u001b[39;00m\u001b[38;5;21;01mrandom\u001b[39;00m \u001b[38;5;28;01mimport\u001b[39;00m choice\n\u001b[0;32m---> 10\u001b[0m \u001b[38;5;28;01mfrom\u001b[39;00m \u001b[38;5;21;01mfaker\u001b[39;00m \u001b[38;5;28;01mimport\u001b[39;00m Faker\n\u001b[1;32m     11\u001b[0m \u001b[38;5;28;01mfrom\u001b[39;00m \u001b[38;5;21;01mtiles_skeleton\u001b[39;00m \u001b[38;5;28;01mimport\u001b[39;00m SupermarketMap, Customer\n",
      "\u001b[0;31mModuleNotFoundError\u001b[0m: No module named 'faker'"
     ]
    }
   ],
   "source": [
    "import pandas as pd\n",
    "import seaborn as sns\n",
    "import matplotlib.pyplot as plt\n",
    "import numpy as np\n",
    "import datetime\n",
    "from datetime import datetime, timedelta\n",
    "import random\n",
    "from numpy.random import choice\n",
    "\n",
    "from faker import Faker\n",
    "from tiles_skeleton import SupermarketMap, Customer"
   ]
  },
  {
   "cell_type": "markdown",
   "id": "0086a69d",
   "metadata": {
    "heading_collapsed": true
   },
   "source": [
    "## Import Data"
   ]
  },
  {
   "cell_type": "code",
   "execution_count": 63,
   "id": "830286c8",
   "metadata": {
    "hidden": true
   },
   "outputs": [],
   "source": [
    "monday = pd.read_csv('/Users/justusweissmuller/Desktop/spiced/week8/project/monday.csv', sep = \";\", parse_dates = True)\n",
    "tuesday = pd.read_csv('/Users/justusweissmuller/Desktop/spiced/week8/project/tuesday.csv', sep = \";\")\n",
    "wednesday = pd.read_csv('/Users/justusweissmuller/Desktop/spiced/week8/project/wednesday.csv', sep = \";\")\n",
    "thursday = pd.read_csv('/Users/justusweissmuller/Desktop/spiced/week8/project/thursday.csv', sep = \";\")\n",
    "friday = pd.read_csv('/Users/justusweissmuller/Desktop/spiced/week8/project/friday.csv', sep = \";\")"
   ]
  },
  {
   "cell_type": "code",
   "execution_count": 64,
   "id": "94647476",
   "metadata": {
    "hidden": true,
    "scrolled": false
   },
   "outputs": [
    {
     "data": {
      "text/html": [
       "<div>\n",
       "<style scoped>\n",
       "    .dataframe tbody tr th:only-of-type {\n",
       "        vertical-align: middle;\n",
       "    }\n",
       "\n",
       "    .dataframe tbody tr th {\n",
       "        vertical-align: top;\n",
       "    }\n",
       "\n",
       "    .dataframe thead th {\n",
       "        text-align: right;\n",
       "    }\n",
       "</style>\n",
       "<table border=\"1\" class=\"dataframe\">\n",
       "  <thead>\n",
       "    <tr style=\"text-align: right;\">\n",
       "      <th></th>\n",
       "      <th>timestamp</th>\n",
       "      <th>customer_no</th>\n",
       "      <th>location</th>\n",
       "    </tr>\n",
       "  </thead>\n",
       "  <tbody>\n",
       "    <tr>\n",
       "      <th>0</th>\n",
       "      <td>2019-09-02 07:03:00</td>\n",
       "      <td>1</td>\n",
       "      <td>dairy</td>\n",
       "    </tr>\n",
       "    <tr>\n",
       "      <th>1</th>\n",
       "      <td>2019-09-02 07:03:00</td>\n",
       "      <td>2</td>\n",
       "      <td>dairy</td>\n",
       "    </tr>\n",
       "    <tr>\n",
       "      <th>2</th>\n",
       "      <td>2019-09-02 07:04:00</td>\n",
       "      <td>3</td>\n",
       "      <td>dairy</td>\n",
       "    </tr>\n",
       "    <tr>\n",
       "      <th>3</th>\n",
       "      <td>2019-09-02 07:04:00</td>\n",
       "      <td>4</td>\n",
       "      <td>dairy</td>\n",
       "    </tr>\n",
       "    <tr>\n",
       "      <th>4</th>\n",
       "      <td>2019-09-02 07:04:00</td>\n",
       "      <td>5</td>\n",
       "      <td>spices</td>\n",
       "    </tr>\n",
       "    <tr>\n",
       "      <th>5</th>\n",
       "      <td>2019-09-02 07:04:00</td>\n",
       "      <td>6</td>\n",
       "      <td>spices</td>\n",
       "    </tr>\n",
       "    <tr>\n",
       "      <th>6</th>\n",
       "      <td>2019-09-02 07:04:00</td>\n",
       "      <td>7</td>\n",
       "      <td>spices</td>\n",
       "    </tr>\n",
       "    <tr>\n",
       "      <th>7</th>\n",
       "      <td>2019-09-02 07:04:00</td>\n",
       "      <td>8</td>\n",
       "      <td>fruit</td>\n",
       "    </tr>\n",
       "    <tr>\n",
       "      <th>8</th>\n",
       "      <td>2019-09-02 07:05:00</td>\n",
       "      <td>1</td>\n",
       "      <td>checkout</td>\n",
       "    </tr>\n",
       "    <tr>\n",
       "      <th>9</th>\n",
       "      <td>2019-09-02 07:05:00</td>\n",
       "      <td>5</td>\n",
       "      <td>checkout</td>\n",
       "    </tr>\n",
       "  </tbody>\n",
       "</table>\n",
       "</div>"
      ],
      "text/plain": [
       "             timestamp  customer_no  location\n",
       "0  2019-09-02 07:03:00            1     dairy\n",
       "1  2019-09-02 07:03:00            2     dairy\n",
       "2  2019-09-02 07:04:00            3     dairy\n",
       "3  2019-09-02 07:04:00            4     dairy\n",
       "4  2019-09-02 07:04:00            5    spices\n",
       "5  2019-09-02 07:04:00            6    spices\n",
       "6  2019-09-02 07:04:00            7    spices\n",
       "7  2019-09-02 07:04:00            8     fruit\n",
       "8  2019-09-02 07:05:00            1  checkout\n",
       "9  2019-09-02 07:05:00            5  checkout"
      ]
     },
     "execution_count": 64,
     "metadata": {},
     "output_type": "execute_result"
    }
   ],
   "source": [
    "monday.head(10)"
   ]
  },
  {
   "cell_type": "code",
   "execution_count": 65,
   "id": "46e731b7",
   "metadata": {
    "hidden": true
   },
   "outputs": [
    {
     "data": {
      "text/html": [
       "<div>\n",
       "<style scoped>\n",
       "    .dataframe tbody tr th:only-of-type {\n",
       "        vertical-align: middle;\n",
       "    }\n",
       "\n",
       "    .dataframe tbody tr th {\n",
       "        vertical-align: top;\n",
       "    }\n",
       "\n",
       "    .dataframe thead th {\n",
       "        text-align: right;\n",
       "    }\n",
       "</style>\n",
       "<table border=\"1\" class=\"dataframe\">\n",
       "  <thead>\n",
       "    <tr style=\"text-align: right;\">\n",
       "      <th></th>\n",
       "      <th>timestamp</th>\n",
       "      <th>customer_no</th>\n",
       "      <th>location</th>\n",
       "    </tr>\n",
       "  </thead>\n",
       "  <tbody>\n",
       "    <tr>\n",
       "      <th>0</th>\n",
       "      <td>2019-09-03 07:02:00</td>\n",
       "      <td>1</td>\n",
       "      <td>fruit</td>\n",
       "    </tr>\n",
       "    <tr>\n",
       "      <th>1</th>\n",
       "      <td>2019-09-03 07:02:00</td>\n",
       "      <td>2</td>\n",
       "      <td>drinks</td>\n",
       "    </tr>\n",
       "    <tr>\n",
       "      <th>2</th>\n",
       "      <td>2019-09-03 07:03:00</td>\n",
       "      <td>3</td>\n",
       "      <td>dairy</td>\n",
       "    </tr>\n",
       "    <tr>\n",
       "      <th>3</th>\n",
       "      <td>2019-09-03 07:05:00</td>\n",
       "      <td>1</td>\n",
       "      <td>drinks</td>\n",
       "    </tr>\n",
       "    <tr>\n",
       "      <th>4</th>\n",
       "      <td>2019-09-03 07:06:00</td>\n",
       "      <td>4</td>\n",
       "      <td>dairy</td>\n",
       "    </tr>\n",
       "    <tr>\n",
       "      <th>5</th>\n",
       "      <td>2019-09-03 07:06:00</td>\n",
       "      <td>5</td>\n",
       "      <td>dairy</td>\n",
       "    </tr>\n",
       "    <tr>\n",
       "      <th>6</th>\n",
       "      <td>2019-09-03 07:07:00</td>\n",
       "      <td>6</td>\n",
       "      <td>dairy</td>\n",
       "    </tr>\n",
       "    <tr>\n",
       "      <th>7</th>\n",
       "      <td>2019-09-03 07:07:00</td>\n",
       "      <td>7</td>\n",
       "      <td>dairy</td>\n",
       "    </tr>\n",
       "    <tr>\n",
       "      <th>8</th>\n",
       "      <td>2019-09-03 07:07:00</td>\n",
       "      <td>8</td>\n",
       "      <td>dairy</td>\n",
       "    </tr>\n",
       "    <tr>\n",
       "      <th>9</th>\n",
       "      <td>2019-09-03 07:08:00</td>\n",
       "      <td>4</td>\n",
       "      <td>spices</td>\n",
       "    </tr>\n",
       "  </tbody>\n",
       "</table>\n",
       "</div>"
      ],
      "text/plain": [
       "             timestamp  customer_no location\n",
       "0  2019-09-03 07:02:00            1    fruit\n",
       "1  2019-09-03 07:02:00            2   drinks\n",
       "2  2019-09-03 07:03:00            3    dairy\n",
       "3  2019-09-03 07:05:00            1   drinks\n",
       "4  2019-09-03 07:06:00            4    dairy\n",
       "5  2019-09-03 07:06:00            5    dairy\n",
       "6  2019-09-03 07:07:00            6    dairy\n",
       "7  2019-09-03 07:07:00            7    dairy\n",
       "8  2019-09-03 07:07:00            8    dairy\n",
       "9  2019-09-03 07:08:00            4   spices"
      ]
     },
     "execution_count": 65,
     "metadata": {},
     "output_type": "execute_result"
    }
   ],
   "source": [
    "tuesday.head(10)"
   ]
  },
  {
   "cell_type": "code",
   "execution_count": 66,
   "id": "1daa5736",
   "metadata": {
    "hidden": true,
    "scrolled": false
   },
   "outputs": [
    {
     "name": "stdout",
     "output_type": "stream",
     "text": [
      "<class 'pandas.core.frame.DataFrame'>\n",
      "RangeIndex: 4884 entries, 0 to 4883\n",
      "Data columns (total 3 columns):\n",
      " #   Column       Non-Null Count  Dtype \n",
      "---  ------       --------------  ----- \n",
      " 0   timestamp    4884 non-null   object\n",
      " 1   customer_no  4884 non-null   int64 \n",
      " 2   location     4884 non-null   object\n",
      "dtypes: int64(1), object(2)\n",
      "memory usage: 114.6+ KB\n"
     ]
    }
   ],
   "source": [
    "monday.info()"
   ]
  },
  {
   "cell_type": "code",
   "execution_count": 67,
   "id": "a931cef0",
   "metadata": {
    "hidden": true
   },
   "outputs": [
    {
     "name": "stdout",
     "output_type": "stream",
     "text": [
      "<class 'pandas.core.frame.DataFrame'>\n",
      "Int64Index: 24877 entries, 0 to 5124\n",
      "Data columns (total 3 columns):\n",
      " #   Column       Non-Null Count  Dtype \n",
      "---  ------       --------------  ----- \n",
      " 0   timestamp    24877 non-null  object\n",
      " 1   customer_no  24877 non-null  int64 \n",
      " 2   location     24877 non-null  object\n",
      "dtypes: int64(1), object(2)\n",
      "memory usage: 777.4+ KB\n"
     ]
    }
   ],
   "source": [
    "weekdays = [monday, tuesday, wednesday, thursday, friday]\n",
    "week = pd.concat(weekdays)\n",
    "week.info()"
   ]
  },
  {
   "cell_type": "code",
   "execution_count": 68,
   "id": "98ec0a4a",
   "metadata": {
    "hidden": true,
    "scrolled": true
   },
   "outputs": [
    {
     "data": {
      "text/html": [
       "<div>\n",
       "<style scoped>\n",
       "    .dataframe tbody tr th:only-of-type {\n",
       "        vertical-align: middle;\n",
       "    }\n",
       "\n",
       "    .dataframe tbody tr th {\n",
       "        vertical-align: top;\n",
       "    }\n",
       "\n",
       "    .dataframe thead th {\n",
       "        text-align: right;\n",
       "    }\n",
       "</style>\n",
       "<table border=\"1\" class=\"dataframe\">\n",
       "  <thead>\n",
       "    <tr style=\"text-align: right;\">\n",
       "      <th></th>\n",
       "      <th>timestamp</th>\n",
       "      <th>customer_no</th>\n",
       "      <th>location</th>\n",
       "    </tr>\n",
       "  </thead>\n",
       "  <tbody>\n",
       "    <tr>\n",
       "      <th>0</th>\n",
       "      <td>2019-09-02 07:03:00</td>\n",
       "      <td>1</td>\n",
       "      <td>dairy</td>\n",
       "    </tr>\n",
       "    <tr>\n",
       "      <th>1</th>\n",
       "      <td>2019-09-02 07:03:00</td>\n",
       "      <td>2</td>\n",
       "      <td>dairy</td>\n",
       "    </tr>\n",
       "    <tr>\n",
       "      <th>2</th>\n",
       "      <td>2019-09-02 07:04:00</td>\n",
       "      <td>3</td>\n",
       "      <td>dairy</td>\n",
       "    </tr>\n",
       "    <tr>\n",
       "      <th>3</th>\n",
       "      <td>2019-09-02 07:04:00</td>\n",
       "      <td>4</td>\n",
       "      <td>dairy</td>\n",
       "    </tr>\n",
       "    <tr>\n",
       "      <th>4</th>\n",
       "      <td>2019-09-02 07:04:00</td>\n",
       "      <td>5</td>\n",
       "      <td>spices</td>\n",
       "    </tr>\n",
       "    <tr>\n",
       "      <th>5</th>\n",
       "      <td>2019-09-02 07:04:00</td>\n",
       "      <td>6</td>\n",
       "      <td>spices</td>\n",
       "    </tr>\n",
       "    <tr>\n",
       "      <th>6</th>\n",
       "      <td>2019-09-02 07:04:00</td>\n",
       "      <td>7</td>\n",
       "      <td>spices</td>\n",
       "    </tr>\n",
       "    <tr>\n",
       "      <th>7</th>\n",
       "      <td>2019-09-02 07:04:00</td>\n",
       "      <td>8</td>\n",
       "      <td>fruit</td>\n",
       "    </tr>\n",
       "    <tr>\n",
       "      <th>8</th>\n",
       "      <td>2019-09-02 07:05:00</td>\n",
       "      <td>1</td>\n",
       "      <td>checkout</td>\n",
       "    </tr>\n",
       "    <tr>\n",
       "      <th>9</th>\n",
       "      <td>2019-09-02 07:05:00</td>\n",
       "      <td>5</td>\n",
       "      <td>checkout</td>\n",
       "    </tr>\n",
       "  </tbody>\n",
       "</table>\n",
       "</div>"
      ],
      "text/plain": [
       "             timestamp  customer_no  location\n",
       "0  2019-09-02 07:03:00            1     dairy\n",
       "1  2019-09-02 07:03:00            2     dairy\n",
       "2  2019-09-02 07:04:00            3     dairy\n",
       "3  2019-09-02 07:04:00            4     dairy\n",
       "4  2019-09-02 07:04:00            5    spices\n",
       "5  2019-09-02 07:04:00            6    spices\n",
       "6  2019-09-02 07:04:00            7    spices\n",
       "7  2019-09-02 07:04:00            8     fruit\n",
       "8  2019-09-02 07:05:00            1  checkout\n",
       "9  2019-09-02 07:05:00            5  checkout"
      ]
     },
     "execution_count": 68,
     "metadata": {},
     "output_type": "execute_result"
    }
   ],
   "source": [
    "week.head(10)"
   ]
  },
  {
   "cell_type": "code",
   "execution_count": 69,
   "id": "3ffb6db6",
   "metadata": {
    "hidden": true
   },
   "outputs": [
    {
     "data": {
      "text/html": [
       "<div>\n",
       "<style scoped>\n",
       "    .dataframe tbody tr th:only-of-type {\n",
       "        vertical-align: middle;\n",
       "    }\n",
       "\n",
       "    .dataframe tbody tr th {\n",
       "        vertical-align: top;\n",
       "    }\n",
       "\n",
       "    .dataframe thead th {\n",
       "        text-align: right;\n",
       "    }\n",
       "</style>\n",
       "<table border=\"1\" class=\"dataframe\">\n",
       "  <thead>\n",
       "    <tr style=\"text-align: right;\">\n",
       "      <th></th>\n",
       "      <th>timestamp</th>\n",
       "      <th>customer_no</th>\n",
       "      <th>location</th>\n",
       "    </tr>\n",
       "  </thead>\n",
       "  <tbody>\n",
       "    <tr>\n",
       "      <th>5115</th>\n",
       "      <td>2019-09-06 21:49:00</td>\n",
       "      <td>1494</td>\n",
       "      <td>spices</td>\n",
       "    </tr>\n",
       "    <tr>\n",
       "      <th>5116</th>\n",
       "      <td>2019-09-06 21:49:00</td>\n",
       "      <td>1496</td>\n",
       "      <td>dairy</td>\n",
       "    </tr>\n",
       "    <tr>\n",
       "      <th>5117</th>\n",
       "      <td>2019-09-06 21:49:00</td>\n",
       "      <td>1503</td>\n",
       "      <td>drinks</td>\n",
       "    </tr>\n",
       "    <tr>\n",
       "      <th>5118</th>\n",
       "      <td>2019-09-06 21:49:00</td>\n",
       "      <td>1505</td>\n",
       "      <td>dairy</td>\n",
       "    </tr>\n",
       "    <tr>\n",
       "      <th>5119</th>\n",
       "      <td>2019-09-06 21:50:00</td>\n",
       "      <td>1496</td>\n",
       "      <td>fruit</td>\n",
       "    </tr>\n",
       "    <tr>\n",
       "      <th>5120</th>\n",
       "      <td>2019-09-06 21:50:00</td>\n",
       "      <td>1500</td>\n",
       "      <td>dairy</td>\n",
       "    </tr>\n",
       "    <tr>\n",
       "      <th>5121</th>\n",
       "      <td>2019-09-06 21:50:00</td>\n",
       "      <td>1507</td>\n",
       "      <td>checkout</td>\n",
       "    </tr>\n",
       "    <tr>\n",
       "      <th>5122</th>\n",
       "      <td>2019-09-06 21:50:00</td>\n",
       "      <td>1508</td>\n",
       "      <td>checkout</td>\n",
       "    </tr>\n",
       "    <tr>\n",
       "      <th>5123</th>\n",
       "      <td>2019-09-06 21:50:00</td>\n",
       "      <td>1509</td>\n",
       "      <td>drinks</td>\n",
       "    </tr>\n",
       "    <tr>\n",
       "      <th>5124</th>\n",
       "      <td>2019-09-06 21:50:00</td>\n",
       "      <td>1510</td>\n",
       "      <td>spices</td>\n",
       "    </tr>\n",
       "  </tbody>\n",
       "</table>\n",
       "</div>"
      ],
      "text/plain": [
       "                timestamp  customer_no  location\n",
       "5115  2019-09-06 21:49:00         1494    spices\n",
       "5116  2019-09-06 21:49:00         1496     dairy\n",
       "5117  2019-09-06 21:49:00         1503    drinks\n",
       "5118  2019-09-06 21:49:00         1505     dairy\n",
       "5119  2019-09-06 21:50:00         1496     fruit\n",
       "5120  2019-09-06 21:50:00         1500     dairy\n",
       "5121  2019-09-06 21:50:00         1507  checkout\n",
       "5122  2019-09-06 21:50:00         1508  checkout\n",
       "5123  2019-09-06 21:50:00         1509    drinks\n",
       "5124  2019-09-06 21:50:00         1510    spices"
      ]
     },
     "execution_count": 69,
     "metadata": {},
     "output_type": "execute_result"
    }
   ],
   "source": [
    "week.tail(10)"
   ]
  },
  {
   "cell_type": "markdown",
   "id": "3e039208",
   "metadata": {},
   "source": [
    "## Exploratory Data Analysis"
   ]
  },
  {
   "cell_type": "code",
   "execution_count": null,
   "id": "4d59df7c",
   "metadata": {},
   "outputs": [],
   "source": []
  },
  {
   "cell_type": "markdown",
   "id": "f6ec4425",
   "metadata": {},
   "source": [
    "### Assigning unique customer IDs"
   ]
  },
  {
   "cell_type": "code",
   "execution_count": 70,
   "id": "a0ee6f21",
   "metadata": {},
   "outputs": [],
   "source": [
    "monday['customer'] = ['Mo'+str(x) for x in monday['customer_no']]\n",
    "tuesday['customer'] = ['Tu'+str(x) for x in tuesday['customer_no']]\n",
    "wednesday['customer'] = ['We'+str(x) for x in wednesday['customer_no']]\n",
    "thursday['customer'] = ['Th'+str(x) for x in thursday['customer_no']]\n",
    "friday['customer'] = ['Fr'+str(x) for x in friday['customer_no']]"
   ]
  },
  {
   "cell_type": "code",
   "execution_count": 71,
   "id": "91df3442",
   "metadata": {},
   "outputs": [
    {
     "data": {
      "text/html": [
       "<div>\n",
       "<style scoped>\n",
       "    .dataframe tbody tr th:only-of-type {\n",
       "        vertical-align: middle;\n",
       "    }\n",
       "\n",
       "    .dataframe tbody tr th {\n",
       "        vertical-align: top;\n",
       "    }\n",
       "\n",
       "    .dataframe thead th {\n",
       "        text-align: right;\n",
       "    }\n",
       "</style>\n",
       "<table border=\"1\" class=\"dataframe\">\n",
       "  <thead>\n",
       "    <tr style=\"text-align: right;\">\n",
       "      <th></th>\n",
       "      <th>timestamp</th>\n",
       "      <th>customer_no</th>\n",
       "      <th>location</th>\n",
       "      <th>customer</th>\n",
       "    </tr>\n",
       "  </thead>\n",
       "  <tbody>\n",
       "    <tr>\n",
       "      <th>0</th>\n",
       "      <td>2019-09-02 07:03:00</td>\n",
       "      <td>1</td>\n",
       "      <td>dairy</td>\n",
       "      <td>Mo1</td>\n",
       "    </tr>\n",
       "    <tr>\n",
       "      <th>1</th>\n",
       "      <td>2019-09-02 07:03:00</td>\n",
       "      <td>2</td>\n",
       "      <td>dairy</td>\n",
       "      <td>Mo2</td>\n",
       "    </tr>\n",
       "    <tr>\n",
       "      <th>2</th>\n",
       "      <td>2019-09-02 07:04:00</td>\n",
       "      <td>3</td>\n",
       "      <td>dairy</td>\n",
       "      <td>Mo3</td>\n",
       "    </tr>\n",
       "    <tr>\n",
       "      <th>3</th>\n",
       "      <td>2019-09-02 07:04:00</td>\n",
       "      <td>4</td>\n",
       "      <td>dairy</td>\n",
       "      <td>Mo4</td>\n",
       "    </tr>\n",
       "    <tr>\n",
       "      <th>4</th>\n",
       "      <td>2019-09-02 07:04:00</td>\n",
       "      <td>5</td>\n",
       "      <td>spices</td>\n",
       "      <td>Mo5</td>\n",
       "    </tr>\n",
       "    <tr>\n",
       "      <th>5</th>\n",
       "      <td>2019-09-02 07:04:00</td>\n",
       "      <td>6</td>\n",
       "      <td>spices</td>\n",
       "      <td>Mo6</td>\n",
       "    </tr>\n",
       "    <tr>\n",
       "      <th>6</th>\n",
       "      <td>2019-09-02 07:04:00</td>\n",
       "      <td>7</td>\n",
       "      <td>spices</td>\n",
       "      <td>Mo7</td>\n",
       "    </tr>\n",
       "    <tr>\n",
       "      <th>7</th>\n",
       "      <td>2019-09-02 07:04:00</td>\n",
       "      <td>8</td>\n",
       "      <td>fruit</td>\n",
       "      <td>Mo8</td>\n",
       "    </tr>\n",
       "    <tr>\n",
       "      <th>8</th>\n",
       "      <td>2019-09-02 07:05:00</td>\n",
       "      <td>1</td>\n",
       "      <td>checkout</td>\n",
       "      <td>Mo1</td>\n",
       "    </tr>\n",
       "    <tr>\n",
       "      <th>9</th>\n",
       "      <td>2019-09-02 07:05:00</td>\n",
       "      <td>5</td>\n",
       "      <td>checkout</td>\n",
       "      <td>Mo5</td>\n",
       "    </tr>\n",
       "  </tbody>\n",
       "</table>\n",
       "</div>"
      ],
      "text/plain": [
       "             timestamp  customer_no  location customer\n",
       "0  2019-09-02 07:03:00            1     dairy      Mo1\n",
       "1  2019-09-02 07:03:00            2     dairy      Mo2\n",
       "2  2019-09-02 07:04:00            3     dairy      Mo3\n",
       "3  2019-09-02 07:04:00            4     dairy      Mo4\n",
       "4  2019-09-02 07:04:00            5    spices      Mo5\n",
       "5  2019-09-02 07:04:00            6    spices      Mo6\n",
       "6  2019-09-02 07:04:00            7    spices      Mo7\n",
       "7  2019-09-02 07:04:00            8     fruit      Mo8\n",
       "8  2019-09-02 07:05:00            1  checkout      Mo1\n",
       "9  2019-09-02 07:05:00            5  checkout      Mo5"
      ]
     },
     "execution_count": 71,
     "metadata": {},
     "output_type": "execute_result"
    }
   ],
   "source": [
    "weekdays = [monday, tuesday, wednesday, thursday, friday]\n",
    "week = pd.concat(weekdays)\n",
    "week.head(10)"
   ]
  },
  {
   "cell_type": "code",
   "execution_count": null,
   "id": "8caa77d9",
   "metadata": {},
   "outputs": [],
   "source": []
  },
  {
   "cell_type": "code",
   "execution_count": 72,
   "id": "094e3494",
   "metadata": {
    "scrolled": false
   },
   "outputs": [
    {
     "data": {
      "text/html": [
       "<div>\n",
       "<style scoped>\n",
       "    .dataframe tbody tr th:only-of-type {\n",
       "        vertical-align: middle;\n",
       "    }\n",
       "\n",
       "    .dataframe tbody tr th {\n",
       "        vertical-align: top;\n",
       "    }\n",
       "\n",
       "    .dataframe thead th {\n",
       "        text-align: right;\n",
       "    }\n",
       "</style>\n",
       "<table border=\"1\" class=\"dataframe\">\n",
       "  <thead>\n",
       "    <tr style=\"text-align: right;\">\n",
       "      <th></th>\n",
       "      <th>timestamp</th>\n",
       "      <th>customer_no</th>\n",
       "      <th>location</th>\n",
       "      <th>customer</th>\n",
       "    </tr>\n",
       "  </thead>\n",
       "  <tbody>\n",
       "    <tr>\n",
       "      <th>5115</th>\n",
       "      <td>2019-09-06 21:49:00</td>\n",
       "      <td>1494</td>\n",
       "      <td>spices</td>\n",
       "      <td>Fr1494</td>\n",
       "    </tr>\n",
       "    <tr>\n",
       "      <th>5116</th>\n",
       "      <td>2019-09-06 21:49:00</td>\n",
       "      <td>1496</td>\n",
       "      <td>dairy</td>\n",
       "      <td>Fr1496</td>\n",
       "    </tr>\n",
       "    <tr>\n",
       "      <th>5117</th>\n",
       "      <td>2019-09-06 21:49:00</td>\n",
       "      <td>1503</td>\n",
       "      <td>drinks</td>\n",
       "      <td>Fr1503</td>\n",
       "    </tr>\n",
       "    <tr>\n",
       "      <th>5118</th>\n",
       "      <td>2019-09-06 21:49:00</td>\n",
       "      <td>1505</td>\n",
       "      <td>dairy</td>\n",
       "      <td>Fr1505</td>\n",
       "    </tr>\n",
       "    <tr>\n",
       "      <th>5119</th>\n",
       "      <td>2019-09-06 21:50:00</td>\n",
       "      <td>1496</td>\n",
       "      <td>fruit</td>\n",
       "      <td>Fr1496</td>\n",
       "    </tr>\n",
       "    <tr>\n",
       "      <th>5120</th>\n",
       "      <td>2019-09-06 21:50:00</td>\n",
       "      <td>1500</td>\n",
       "      <td>dairy</td>\n",
       "      <td>Fr1500</td>\n",
       "    </tr>\n",
       "    <tr>\n",
       "      <th>5121</th>\n",
       "      <td>2019-09-06 21:50:00</td>\n",
       "      <td>1507</td>\n",
       "      <td>checkout</td>\n",
       "      <td>Fr1507</td>\n",
       "    </tr>\n",
       "    <tr>\n",
       "      <th>5122</th>\n",
       "      <td>2019-09-06 21:50:00</td>\n",
       "      <td>1508</td>\n",
       "      <td>checkout</td>\n",
       "      <td>Fr1508</td>\n",
       "    </tr>\n",
       "    <tr>\n",
       "      <th>5123</th>\n",
       "      <td>2019-09-06 21:50:00</td>\n",
       "      <td>1509</td>\n",
       "      <td>drinks</td>\n",
       "      <td>Fr1509</td>\n",
       "    </tr>\n",
       "    <tr>\n",
       "      <th>5124</th>\n",
       "      <td>2019-09-06 21:50:00</td>\n",
       "      <td>1510</td>\n",
       "      <td>spices</td>\n",
       "      <td>Fr1510</td>\n",
       "    </tr>\n",
       "  </tbody>\n",
       "</table>\n",
       "</div>"
      ],
      "text/plain": [
       "                timestamp  customer_no  location customer\n",
       "5115  2019-09-06 21:49:00         1494    spices   Fr1494\n",
       "5116  2019-09-06 21:49:00         1496     dairy   Fr1496\n",
       "5117  2019-09-06 21:49:00         1503    drinks   Fr1503\n",
       "5118  2019-09-06 21:49:00         1505     dairy   Fr1505\n",
       "5119  2019-09-06 21:50:00         1496     fruit   Fr1496\n",
       "5120  2019-09-06 21:50:00         1500     dairy   Fr1500\n",
       "5121  2019-09-06 21:50:00         1507  checkout   Fr1507\n",
       "5122  2019-09-06 21:50:00         1508  checkout   Fr1508\n",
       "5123  2019-09-06 21:50:00         1509    drinks   Fr1509\n",
       "5124  2019-09-06 21:50:00         1510    spices   Fr1510"
      ]
     },
     "execution_count": 72,
     "metadata": {},
     "output_type": "execute_result"
    }
   ],
   "source": [
    "week.tail(10)"
   ]
  },
  {
   "cell_type": "markdown",
   "id": "93f7cdde",
   "metadata": {},
   "source": [
    "### Exploring for missing values"
   ]
  },
  {
   "cell_type": "code",
   "execution_count": 73,
   "id": "939b3a04",
   "metadata": {
    "scrolled": true
   },
   "outputs": [
    {
     "data": {
      "text/plain": [
       "timestamp      0\n",
       "customer_no    0\n",
       "location       0\n",
       "customer       0\n",
       "dtype: int64"
      ]
     },
     "execution_count": 73,
     "metadata": {},
     "output_type": "execute_result"
    }
   ],
   "source": [
    "week.isnull().sum()"
   ]
  },
  {
   "cell_type": "markdown",
   "id": "98cb7cdb",
   "metadata": {},
   "source": [
    "### Number of customers in each section"
   ]
  },
  {
   "cell_type": "code",
   "execution_count": 74,
   "id": "06cc4890",
   "metadata": {},
   "outputs": [
    {
     "data": {
      "text/plain": [
       "location\n",
       "checkout    7417\n",
       "dairy       3818\n",
       "drinks      3214\n",
       "fruit       4284\n",
       "spices      2938\n",
       "Name: customer, dtype: int64"
      ]
     },
     "execution_count": 74,
     "metadata": {},
     "output_type": "execute_result"
    }
   ],
   "source": [
    "week.groupby(['location'])['customer'].nunique()"
   ]
  },
  {
   "cell_type": "code",
   "execution_count": 79,
   "id": "a6c06869",
   "metadata": {},
   "outputs": [
    {
     "data": {
      "text/plain": [
       "Text(0.5, 1.0, 'Total Number of Customers in Each Section')"
      ]
     },
     "execution_count": 79,
     "metadata": {},
     "output_type": "execute_result"
    },
    {
     "data": {
      "image/png": "[encoded data removed]",
      "text/plain": [
       "<Figure size 1440x720 with 1 Axes>"
      ]
     },
     "metadata": {},
     "output_type": "display_data"
    }
   ],
   "source": [
    "week.groupby(['location'])['customer'].nunique().plot(kind='bar', figsize=(20, 10))\n",
    "plt.ylabel('Total Number of Customers')\n",
    "plt.xlabel('Supermarkt Sections')\n",
    "plt.title('Total Number of Customers in Each Section')"
   ]
  },
  {
   "cell_type": "code",
   "execution_count": 76,
   "id": "e4c0b9bb",
   "metadata": {},
   "outputs": [
    {
     "data": {
      "text/plain": [
       "checkout    7417\n",
       "fruit       5122\n",
       "dairy       4679\n",
       "drinks      3905\n",
       "spices      3754\n",
       "Name: location, dtype: int64"
      ]
     },
     "execution_count": 76,
     "metadata": {},
     "output_type": "execute_result"
    }
   ],
   "source": [
    "week['location'].value_counts()"
   ]
  },
  {
   "cell_type": "markdown",
   "id": "57f316ee",
   "metadata": {},
   "source": [
    "### Number of customers in each section over time"
   ]
  },
  {
   "cell_type": "code",
   "execution_count": 77,
   "id": "3184348a",
   "metadata": {},
   "outputs": [],
   "source": [
    "week['date'] = pd.to_datetime(week['timestamp']).dt.date\n",
    "week['day'] = pd.to_datetime(week['timestamp']).dt.day\n",
    "week['time'] = pd.to_datetime(week['timestamp']).dt.time\n",
    "week['hour'] = pd.to_datetime(week['timestamp']).dt.hour"
   ]
  },
  {
   "cell_type": "code",
   "execution_count": 78,
   "id": "02474803",
   "metadata": {},
   "outputs": [
    {
     "data": {
      "text/html": [
       "<div>\n",
       "<style scoped>\n",
       "    .dataframe tbody tr th:only-of-type {\n",
       "        vertical-align: middle;\n",
       "    }\n",
       "\n",
       "    .dataframe tbody tr th {\n",
       "        vertical-align: top;\n",
       "    }\n",
       "\n",
       "    .dataframe thead th {\n",
       "        text-align: right;\n",
       "    }\n",
       "</style>\n",
       "<table border=\"1\" class=\"dataframe\">\n",
       "  <thead>\n",
       "    <tr style=\"text-align: right;\">\n",
       "      <th></th>\n",
       "      <th>timestamp</th>\n",
       "      <th>customer_no</th>\n",
       "      <th>location</th>\n",
       "      <th>customer</th>\n",
       "      <th>date</th>\n",
       "      <th>day</th>\n",
       "      <th>time</th>\n",
       "      <th>hour</th>\n",
       "    </tr>\n",
       "  </thead>\n",
       "  <tbody>\n",
       "    <tr>\n",
       "      <th>0</th>\n",
       "      <td>2019-09-02 07:03:00</td>\n",
       "      <td>1</td>\n",
       "      <td>dairy</td>\n",
       "      <td>Mo1</td>\n",
       "      <td>2019-09-02</td>\n",
       "      <td>2</td>\n",
       "      <td>07:03:00</td>\n",
       "      <td>7</td>\n",
       "    </tr>\n",
       "    <tr>\n",
       "      <th>1</th>\n",
       "      <td>2019-09-02 07:03:00</td>\n",
       "      <td>2</td>\n",
       "      <td>dairy</td>\n",
       "      <td>Mo2</td>\n",
       "      <td>2019-09-02</td>\n",
       "      <td>2</td>\n",
       "      <td>07:03:00</td>\n",
       "      <td>7</td>\n",
       "    </tr>\n",
       "    <tr>\n",
       "      <th>2</th>\n",
       "      <td>2019-09-02 07:04:00</td>\n",
       "      <td>3</td>\n",
       "      <td>dairy</td>\n",
       "      <td>Mo3</td>\n",
       "      <td>2019-09-02</td>\n",
       "      <td>2</td>\n",
       "      <td>07:04:00</td>\n",
       "      <td>7</td>\n",
       "    </tr>\n",
       "    <tr>\n",
       "      <th>3</th>\n",
       "      <td>2019-09-02 07:04:00</td>\n",
       "      <td>4</td>\n",
       "      <td>dairy</td>\n",
       "      <td>Mo4</td>\n",
       "      <td>2019-09-02</td>\n",
       "      <td>2</td>\n",
       "      <td>07:04:00</td>\n",
       "      <td>7</td>\n",
       "    </tr>\n",
       "    <tr>\n",
       "      <th>4</th>\n",
       "      <td>2019-09-02 07:04:00</td>\n",
       "      <td>5</td>\n",
       "      <td>spices</td>\n",
       "      <td>Mo5</td>\n",
       "      <td>2019-09-02</td>\n",
       "      <td>2</td>\n",
       "      <td>07:04:00</td>\n",
       "      <td>7</td>\n",
       "    </tr>\n",
       "    <tr>\n",
       "      <th>5</th>\n",
       "      <td>2019-09-02 07:04:00</td>\n",
       "      <td>6</td>\n",
       "      <td>spices</td>\n",
       "      <td>Mo6</td>\n",
       "      <td>2019-09-02</td>\n",
       "      <td>2</td>\n",
       "      <td>07:04:00</td>\n",
       "      <td>7</td>\n",
       "    </tr>\n",
       "    <tr>\n",
       "      <th>6</th>\n",
       "      <td>2019-09-02 07:04:00</td>\n",
       "      <td>7</td>\n",
       "      <td>spices</td>\n",
       "      <td>Mo7</td>\n",
       "      <td>2019-09-02</td>\n",
       "      <td>2</td>\n",
       "      <td>07:04:00</td>\n",
       "      <td>7</td>\n",
       "    </tr>\n",
       "    <tr>\n",
       "      <th>7</th>\n",
       "      <td>2019-09-02 07:04:00</td>\n",
       "      <td>8</td>\n",
       "      <td>fruit</td>\n",
       "      <td>Mo8</td>\n",
       "      <td>2019-09-02</td>\n",
       "      <td>2</td>\n",
       "      <td>07:04:00</td>\n",
       "      <td>7</td>\n",
       "    </tr>\n",
       "    <tr>\n",
       "      <th>8</th>\n",
       "      <td>2019-09-02 07:05:00</td>\n",
       "      <td>1</td>\n",
       "      <td>checkout</td>\n",
       "      <td>Mo1</td>\n",
       "      <td>2019-09-02</td>\n",
       "      <td>2</td>\n",
       "      <td>07:05:00</td>\n",
       "      <td>7</td>\n",
       "    </tr>\n",
       "    <tr>\n",
       "      <th>9</th>\n",
       "      <td>2019-09-02 07:05:00</td>\n",
       "      <td>5</td>\n",
       "      <td>checkout</td>\n",
       "      <td>Mo5</td>\n",
       "      <td>2019-09-02</td>\n",
       "      <td>2</td>\n",
       "      <td>07:05:00</td>\n",
       "      <td>7</td>\n",
       "    </tr>\n",
       "  </tbody>\n",
       "</table>\n",
       "</div>"
      ],
      "text/plain": [
       "             timestamp  customer_no  location customer        date  day  \\\n",
       "0  2019-09-02 07:03:00            1     dairy      Mo1  2019-09-02    2   \n",
       "1  2019-09-02 07:03:00            2     dairy      Mo2  2019-09-02    2   \n",
       "2  2019-09-02 07:04:00            3     dairy      Mo3  2019-09-02    2   \n",
       "3  2019-09-02 07:04:00            4     dairy      Mo4  2019-09-02    2   \n",
       "4  2019-09-02 07:04:00            5    spices      Mo5  2019-09-02    2   \n",
       "5  2019-09-02 07:04:00            6    spices      Mo6  2019-09-02    2   \n",
       "6  2019-09-02 07:04:00            7    spices      Mo7  2019-09-02    2   \n",
       "7  2019-09-02 07:04:00            8     fruit      Mo8  2019-09-02    2   \n",
       "8  2019-09-02 07:05:00            1  checkout      Mo1  2019-09-02    2   \n",
       "9  2019-09-02 07:05:00            5  checkout      Mo5  2019-09-02    2   \n",
       "\n",
       "       time  hour  \n",
       "0  07:03:00     7  \n",
       "1  07:03:00     7  \n",
       "2  07:04:00     7  \n",
       "3  07:04:00     7  \n",
       "4  07:04:00     7  \n",
       "5  07:04:00     7  \n",
       "6  07:04:00     7  \n",
       "7  07:04:00     7  \n",
       "8  07:05:00     7  \n",
       "9  07:05:00     7  "
      ]
     },
     "execution_count": 78,
     "metadata": {},
     "output_type": "execute_result"
    }
   ],
   "source": [
    "week.head(10)"
   ]
  },
  {
   "cell_type": "code",
   "execution_count": 43,
   "id": "f9a340f8",
   "metadata": {},
   "outputs": [],
   "source": [
    "section_traffic = week.groupby(['location', 'hour'])['customer'].nunique()\n",
    "section_traffic.df = pd.DataFrame(section_traffic)\n"
   ]
  },
  {
   "cell_type": "code",
   "execution_count": 45,
   "id": "d88a304d",
   "metadata": {
    "scrolled": true
   },
   "outputs": [
    {
     "data": {
      "text/html": [
       "<div>\n",
       "<style scoped>\n",
       "    .dataframe tbody tr th:only-of-type {\n",
       "        vertical-align: middle;\n",
       "    }\n",
       "\n",
       "    .dataframe tbody tr th {\n",
       "        vertical-align: top;\n",
       "    }\n",
       "\n",
       "    .dataframe thead th {\n",
       "        text-align: right;\n",
       "    }\n",
       "</style>\n",
       "<table border=\"1\" class=\"dataframe\">\n",
       "  <thead>\n",
       "    <tr style=\"text-align: right;\">\n",
       "      <th></th>\n",
       "      <th></th>\n",
       "      <th>customer</th>\n",
       "    </tr>\n",
       "    <tr>\n",
       "      <th>location</th>\n",
       "      <th>hour</th>\n",
       "      <th></th>\n",
       "    </tr>\n",
       "  </thead>\n",
       "  <tbody>\n",
       "    <tr>\n",
       "      <th rowspan=\"5\" valign=\"top\">checkout</th>\n",
       "      <th>7</th>\n",
       "      <td>454</td>\n",
       "    </tr>\n",
       "    <tr>\n",
       "      <th>8</th>\n",
       "      <td>677</td>\n",
       "    </tr>\n",
       "    <tr>\n",
       "      <th>9</th>\n",
       "      <td>455</td>\n",
       "    </tr>\n",
       "    <tr>\n",
       "      <th>10</th>\n",
       "      <td>427</td>\n",
       "    </tr>\n",
       "    <tr>\n",
       "      <th>11</th>\n",
       "      <td>342</td>\n",
       "    </tr>\n",
       "    <tr>\n",
       "      <th>...</th>\n",
       "      <th>...</th>\n",
       "      <td>...</td>\n",
       "    </tr>\n",
       "    <tr>\n",
       "      <th rowspan=\"5\" valign=\"top\">spices</th>\n",
       "      <th>17</th>\n",
       "      <td>219</td>\n",
       "    </tr>\n",
       "    <tr>\n",
       "      <th>18</th>\n",
       "      <td>275</td>\n",
       "    </tr>\n",
       "    <tr>\n",
       "      <th>19</th>\n",
       "      <td>309</td>\n",
       "    </tr>\n",
       "    <tr>\n",
       "      <th>20</th>\n",
       "      <td>201</td>\n",
       "    </tr>\n",
       "    <tr>\n",
       "      <th>21</th>\n",
       "      <td>104</td>\n",
       "    </tr>\n",
       "  </tbody>\n",
       "</table>\n",
       "<p>75 rows × 1 columns</p>\n",
       "</div>"
      ],
      "text/plain": [
       "               customer\n",
       "location hour          \n",
       "checkout 7          454\n",
       "         8          677\n",
       "         9          455\n",
       "         10         427\n",
       "         11         342\n",
       "...                 ...\n",
       "spices   17         219\n",
       "         18         275\n",
       "         19         309\n",
       "         20         201\n",
       "         21         104\n",
       "\n",
       "[75 rows x 1 columns]"
      ]
     },
     "execution_count": 45,
     "metadata": {},
     "output_type": "execute_result"
    }
   ],
   "source": [
    "section_traffic.df"
   ]
  },
  {
   "cell_type": "code",
   "execution_count": 55,
   "id": "7297d4f3",
   "metadata": {
    "scrolled": true
   },
   "outputs": [
    {
     "data": {
      "text/plain": [
       "Text(0.5, 1.0, 'Number of customers per section over daytime')"
      ]
     },
     "execution_count": 55,
     "metadata": {},
     "output_type": "execute_result"
    },
    {
     "data": {
      "image/png": "[encoded data removed]",
      "text/plain": [
       "<Figure size 1440x720 with 1 Axes>"
      ]
     },
     "metadata": {},
     "output_type": "display_data"
    }
   ],
   "source": [
    "sns.lineplot(x='hour', y='customer', data = section_traffic.df, hue='location', palette='Set2')\n",
    "sns.set(rc = {'figure.figsize':(20,10)})\n",
    "plt.ylabel('Number of customers')\n",
    "plt.xlabel('Hour')\n",
    "plt.title('Number of customers per section over daytime')"
   ]
  },
  {
   "cell_type": "markdown",
   "id": "782bdeb7",
   "metadata": {},
   "source": [
    "### Number of customers at checkout per day"
   ]
  },
  {
   "cell_type": "code",
   "execution_count": 86,
   "id": "82b129f2",
   "metadata": {},
   "outputs": [
    {
     "data": {
      "text/plain": [
       "<AxesSubplot:xlabel='day'>"
      ]
     },
     "execution_count": 86,
     "metadata": {},
     "output_type": "execute_result"
    },
    {
     "data": {
      "image/png": "[encoded data removed]",
      "text/plain": [
       "<Figure size 1440x720 with 1 Axes>"
      ]
     },
     "metadata": {},
     "output_type": "display_data"
    }
   ],
   "source": [
    "checkout = week[week['location'] == 'checkout']\n",
    "checkout.groupby(['day'])['customer_no'].count().plot(kind='bar')"
   ]
  },
  {
   "cell_type": "markdown",
   "id": "c0bf0ce9",
   "metadata": {},
   "source": [
    "### Time each customer spent in the supermarket"
   ]
  },
  {
   "cell_type": "code",
   "execution_count": 89,
   "id": "048a953f",
   "metadata": {
    "scrolled": true
   },
   "outputs": [
    {
     "data": {
      "text/html": [
       "<div>\n",
       "<style scoped>\n",
       "    .dataframe tbody tr th:only-of-type {\n",
       "        vertical-align: middle;\n",
       "    }\n",
       "\n",
       "    .dataframe tbody tr th {\n",
       "        vertical-align: top;\n",
       "    }\n",
       "\n",
       "    .dataframe thead th {\n",
       "        text-align: right;\n",
       "    }\n",
       "</style>\n",
       "<table border=\"1\" class=\"dataframe\">\n",
       "  <thead>\n",
       "    <tr style=\"text-align: right;\">\n",
       "      <th></th>\n",
       "      <th>entry</th>\n",
       "      <th>hour</th>\n",
       "      <th>exit</th>\n",
       "    </tr>\n",
       "    <tr>\n",
       "      <th>customer</th>\n",
       "      <th></th>\n",
       "      <th></th>\n",
       "      <th></th>\n",
       "    </tr>\n",
       "  </thead>\n",
       "  <tbody>\n",
       "    <tr>\n",
       "      <th>Fr1</th>\n",
       "      <td>2019-09-06 07:00:00</td>\n",
       "      <td>7</td>\n",
       "      <td>2019-09-06 07:05:00</td>\n",
       "    </tr>\n",
       "    <tr>\n",
       "      <th>Fr10</th>\n",
       "      <td>2019-09-06 07:06:00</td>\n",
       "      <td>7</td>\n",
       "      <td>2019-09-06 07:11:00</td>\n",
       "    </tr>\n",
       "    <tr>\n",
       "      <th>Fr100</th>\n",
       "      <td>2019-09-06 08:03:00</td>\n",
       "      <td>8</td>\n",
       "      <td>2019-09-06 08:04:00</td>\n",
       "    </tr>\n",
       "    <tr>\n",
       "      <th>Fr1000</th>\n",
       "      <td>2019-09-06 17:19:00</td>\n",
       "      <td>17</td>\n",
       "      <td>2019-09-06 17:20:00</td>\n",
       "    </tr>\n",
       "    <tr>\n",
       "      <th>Fr1001</th>\n",
       "      <td>2019-09-06 17:19:00</td>\n",
       "      <td>17</td>\n",
       "      <td>2019-09-06 17:29:00</td>\n",
       "    </tr>\n",
       "  </tbody>\n",
       "</table>\n",
       "</div>"
      ],
      "text/plain": [
       "                        entry  hour                 exit\n",
       "customer                                                \n",
       "Fr1       2019-09-06 07:00:00     7  2019-09-06 07:05:00\n",
       "Fr10      2019-09-06 07:06:00     7  2019-09-06 07:11:00\n",
       "Fr100     2019-09-06 08:03:00     8  2019-09-06 08:04:00\n",
       "Fr1000    2019-09-06 17:19:00    17  2019-09-06 17:20:00\n",
       "Fr1001    2019-09-06 17:19:00    17  2019-09-06 17:29:00"
      ]
     },
     "execution_count": 89,
     "metadata": {},
     "output_type": "execute_result"
    }
   ],
   "source": [
    "# Entrytime of customer \n",
    "entrytime = week[['timestamp','customer', 'hour']].groupby('customer').min()\n",
    "entrytime = entrytime.rename(columns={'timestamp': 'entry'})\n",
    "\n",
    "#Exittime of customer\n",
    "exittime = week[['timestamp','customer']].groupby('customer').max()\n",
    "exittime = exittime.rename(columns={'timestamp': 'exit'})\n",
    "\n",
    "#Dataframe creation of entry and exit\n",
    "week_time = pd.concat([entrytime, exittime], axis=1)\n",
    "week_time.head()"
   ]
  },
  {
   "cell_type": "code",
   "execution_count": 92,
   "id": "0dd6513a",
   "metadata": {
    "scrolled": true
   },
   "outputs": [
    {
     "data": {
      "text/html": [
       "<div>\n",
       "<style scoped>\n",
       "    .dataframe tbody tr th:only-of-type {\n",
       "        vertical-align: middle;\n",
       "    }\n",
       "\n",
       "    .dataframe tbody tr th {\n",
       "        vertical-align: top;\n",
       "    }\n",
       "\n",
       "    .dataframe thead th {\n",
       "        text-align: right;\n",
       "    }\n",
       "</style>\n",
       "<table border=\"1\" class=\"dataframe\">\n",
       "  <thead>\n",
       "    <tr style=\"text-align: right;\">\n",
       "      <th></th>\n",
       "      <th>entry</th>\n",
       "      <th>hour</th>\n",
       "      <th>exit</th>\n",
       "      <th>duration</th>\n",
       "    </tr>\n",
       "    <tr>\n",
       "      <th>customer</th>\n",
       "      <th></th>\n",
       "      <th></th>\n",
       "      <th></th>\n",
       "      <th></th>\n",
       "    </tr>\n",
       "  </thead>\n",
       "  <tbody>\n",
       "    <tr>\n",
       "      <th>Fr1</th>\n",
       "      <td>2019-09-06 07:00:00</td>\n",
       "      <td>7</td>\n",
       "      <td>2019-09-06 07:05:00</td>\n",
       "      <td>0 days 00:05:00</td>\n",
       "    </tr>\n",
       "    <tr>\n",
       "      <th>Fr10</th>\n",
       "      <td>2019-09-06 07:06:00</td>\n",
       "      <td>7</td>\n",
       "      <td>2019-09-06 07:11:00</td>\n",
       "      <td>0 days 00:05:00</td>\n",
       "    </tr>\n",
       "    <tr>\n",
       "      <th>Fr100</th>\n",
       "      <td>2019-09-06 08:03:00</td>\n",
       "      <td>8</td>\n",
       "      <td>2019-09-06 08:04:00</td>\n",
       "      <td>0 days 00:01:00</td>\n",
       "    </tr>\n",
       "    <tr>\n",
       "      <th>Fr1000</th>\n",
       "      <td>2019-09-06 17:19:00</td>\n",
       "      <td>17</td>\n",
       "      <td>2019-09-06 17:20:00</td>\n",
       "      <td>0 days 00:01:00</td>\n",
       "    </tr>\n",
       "    <tr>\n",
       "      <th>Fr1001</th>\n",
       "      <td>2019-09-06 17:19:00</td>\n",
       "      <td>17</td>\n",
       "      <td>2019-09-06 17:29:00</td>\n",
       "      <td>0 days 00:10:00</td>\n",
       "    </tr>\n",
       "  </tbody>\n",
       "</table>\n",
       "</div>"
      ],
      "text/plain": [
       "                        entry  hour                 exit        duration\n",
       "customer                                                                \n",
       "Fr1       2019-09-06 07:00:00     7  2019-09-06 07:05:00 0 days 00:05:00\n",
       "Fr10      2019-09-06 07:06:00     7  2019-09-06 07:11:00 0 days 00:05:00\n",
       "Fr100     2019-09-06 08:03:00     8  2019-09-06 08:04:00 0 days 00:01:00\n",
       "Fr1000    2019-09-06 17:19:00    17  2019-09-06 17:20:00 0 days 00:01:00\n",
       "Fr1001    2019-09-06 17:19:00    17  2019-09-06 17:29:00 0 days 00:10:00"
      ]
     },
     "execution_count": 92,
     "metadata": {},
     "output_type": "execute_result"
    }
   ],
   "source": [
    "#Calcuation of stay duration of each customer\n",
    "week_time['duration'] = pd.to_datetime(week_time['exit']) - pd.to_datetime(week_time['entry'])\n",
    "week_time.head()"
   ]
  },
  {
   "cell_type": "markdown",
   "id": "6346f944",
   "metadata": {},
   "source": [
    "### Total number of customers in the supermarket over time"
   ]
  },
  {
   "cell_type": "code",
   "execution_count": 100,
   "id": "5bbd68c0",
   "metadata": {},
   "outputs": [
    {
     "data": {
      "text/plain": [
       "[Text(0, 0, '1544'),\n",
       " Text(0, 0, '2290'),\n",
       " Text(0, 0, '1520'),\n",
       " Text(0, 0, '1431'),\n",
       " Text(0, 0, '1111'),\n",
       " Text(0, 0, '1252'),\n",
       " Text(0, 0, '1754'),\n",
       " Text(0, 0, '1650'),\n",
       " Text(0, 0, '1335'),\n",
       " Text(0, 0, '1742'),\n",
       " Text(0, 0, '1889'),\n",
       " Text(0, 0, '2215'),\n",
       " Text(0, 0, '2558'),\n",
       " Text(0, 0, '1655'),\n",
       " Text(0, 0, '931')]"
      ]
     },
     "execution_count": 100,
     "metadata": {},
     "output_type": "execute_result"
    },
    {
     "data": {
      "image/png": "[encoded data removed]",
      "text/plain": [
       "<Figure size 1440x720 with 1 Axes>"
      ]
     },
     "metadata": {},
     "output_type": "display_data"
    }
   ],
   "source": [
    "plot = week.groupby(['hour'])['customer'].count().plot(kind='bar', figsize=(20,10))\n",
    "plt.ylabel('Total Number of Customers')\n",
    "plt.xlabel('Shopping ours')\n",
    "plt.title('Total Number of Customers in a week over Shopping Hours ')\n",
    "plt.bar_label(plot.containers[0],size=16,label_type='edge')"
   ]
  },
  {
   "cell_type": "markdown",
   "id": "3c7112ce",
   "metadata": {},
   "source": [
    "## Transition Probability Matrix"
   ]
  },
  {
   "cell_type": "markdown",
   "id": "88507052",
   "metadata": {},
   "source": [
    "The transition probability matrix will provide the probabilities of customers changing from one aisles to the next, for example from 'fruits' to 'dairy'. These probabilities are later required for the simulation of the customer behavior."
   ]
  },
  {
   "cell_type": "code",
   "execution_count": 101,
   "id": "f649f782",
   "metadata": {},
   "outputs": [],
   "source": [
    "week['after'] = week.groupby(['customer'])['location'].shift(-1)"
   ]
  },
  {
   "cell_type": "code",
   "execution_count": 102,
   "id": "a5906306",
   "metadata": {},
   "outputs": [
    {
     "data": {
      "text/html": [
       "<div>\n",
       "<style scoped>\n",
       "    .dataframe tbody tr th:only-of-type {\n",
       "        vertical-align: middle;\n",
       "    }\n",
       "\n",
       "    .dataframe tbody tr th {\n",
       "        vertical-align: top;\n",
       "    }\n",
       "\n",
       "    .dataframe thead th {\n",
       "        text-align: right;\n",
       "    }\n",
       "</style>\n",
       "<table border=\"1\" class=\"dataframe\">\n",
       "  <thead>\n",
       "    <tr style=\"text-align: right;\">\n",
       "      <th></th>\n",
       "      <th>timestamp</th>\n",
       "      <th>customer_no</th>\n",
       "      <th>location</th>\n",
       "      <th>customer</th>\n",
       "      <th>date</th>\n",
       "      <th>day</th>\n",
       "      <th>time</th>\n",
       "      <th>hour</th>\n",
       "      <th>after</th>\n",
       "    </tr>\n",
       "  </thead>\n",
       "  <tbody>\n",
       "    <tr>\n",
       "      <th>0</th>\n",
       "      <td>2019-09-02 07:03:00</td>\n",
       "      <td>1</td>\n",
       "      <td>dairy</td>\n",
       "      <td>Mo1</td>\n",
       "      <td>2019-09-02</td>\n",
       "      <td>2</td>\n",
       "      <td>07:03:00</td>\n",
       "      <td>7</td>\n",
       "      <td>checkout</td>\n",
       "    </tr>\n",
       "    <tr>\n",
       "      <th>1</th>\n",
       "      <td>2019-09-02 07:03:00</td>\n",
       "      <td>2</td>\n",
       "      <td>dairy</td>\n",
       "      <td>Mo2</td>\n",
       "      <td>2019-09-02</td>\n",
       "      <td>2</td>\n",
       "      <td>07:03:00</td>\n",
       "      <td>7</td>\n",
       "      <td>checkout</td>\n",
       "    </tr>\n",
       "    <tr>\n",
       "      <th>2</th>\n",
       "      <td>2019-09-02 07:04:00</td>\n",
       "      <td>3</td>\n",
       "      <td>dairy</td>\n",
       "      <td>Mo3</td>\n",
       "      <td>2019-09-02</td>\n",
       "      <td>2</td>\n",
       "      <td>07:04:00</td>\n",
       "      <td>7</td>\n",
       "      <td>checkout</td>\n",
       "    </tr>\n",
       "    <tr>\n",
       "      <th>3</th>\n",
       "      <td>2019-09-02 07:04:00</td>\n",
       "      <td>4</td>\n",
       "      <td>dairy</td>\n",
       "      <td>Mo4</td>\n",
       "      <td>2019-09-02</td>\n",
       "      <td>2</td>\n",
       "      <td>07:04:00</td>\n",
       "      <td>7</td>\n",
       "      <td>checkout</td>\n",
       "    </tr>\n",
       "    <tr>\n",
       "      <th>4</th>\n",
       "      <td>2019-09-02 07:04:00</td>\n",
       "      <td>5</td>\n",
       "      <td>spices</td>\n",
       "      <td>Mo5</td>\n",
       "      <td>2019-09-02</td>\n",
       "      <td>2</td>\n",
       "      <td>07:04:00</td>\n",
       "      <td>7</td>\n",
       "      <td>checkout</td>\n",
       "    </tr>\n",
       "    <tr>\n",
       "      <th>5</th>\n",
       "      <td>2019-09-02 07:04:00</td>\n",
       "      <td>6</td>\n",
       "      <td>spices</td>\n",
       "      <td>Mo6</td>\n",
       "      <td>2019-09-02</td>\n",
       "      <td>2</td>\n",
       "      <td>07:04:00</td>\n",
       "      <td>7</td>\n",
       "      <td>dairy</td>\n",
       "    </tr>\n",
       "    <tr>\n",
       "      <th>6</th>\n",
       "      <td>2019-09-02 07:04:00</td>\n",
       "      <td>7</td>\n",
       "      <td>spices</td>\n",
       "      <td>Mo7</td>\n",
       "      <td>2019-09-02</td>\n",
       "      <td>2</td>\n",
       "      <td>07:04:00</td>\n",
       "      <td>7</td>\n",
       "      <td>drinks</td>\n",
       "    </tr>\n",
       "    <tr>\n",
       "      <th>7</th>\n",
       "      <td>2019-09-02 07:04:00</td>\n",
       "      <td>8</td>\n",
       "      <td>fruit</td>\n",
       "      <td>Mo8</td>\n",
       "      <td>2019-09-02</td>\n",
       "      <td>2</td>\n",
       "      <td>07:04:00</td>\n",
       "      <td>7</td>\n",
       "      <td>checkout</td>\n",
       "    </tr>\n",
       "    <tr>\n",
       "      <th>8</th>\n",
       "      <td>2019-09-02 07:05:00</td>\n",
       "      <td>1</td>\n",
       "      <td>checkout</td>\n",
       "      <td>Mo1</td>\n",
       "      <td>2019-09-02</td>\n",
       "      <td>2</td>\n",
       "      <td>07:05:00</td>\n",
       "      <td>7</td>\n",
       "      <td>NaN</td>\n",
       "    </tr>\n",
       "    <tr>\n",
       "      <th>9</th>\n",
       "      <td>2019-09-02 07:05:00</td>\n",
       "      <td>5</td>\n",
       "      <td>checkout</td>\n",
       "      <td>Mo5</td>\n",
       "      <td>2019-09-02</td>\n",
       "      <td>2</td>\n",
       "      <td>07:05:00</td>\n",
       "      <td>7</td>\n",
       "      <td>NaN</td>\n",
       "    </tr>\n",
       "  </tbody>\n",
       "</table>\n",
       "</div>"
      ],
      "text/plain": [
       "             timestamp  customer_no  location customer        date  day  \\\n",
       "0  2019-09-02 07:03:00            1     dairy      Mo1  2019-09-02    2   \n",
       "1  2019-09-02 07:03:00            2     dairy      Mo2  2019-09-02    2   \n",
       "2  2019-09-02 07:04:00            3     dairy      Mo3  2019-09-02    2   \n",
       "3  2019-09-02 07:04:00            4     dairy      Mo4  2019-09-02    2   \n",
       "4  2019-09-02 07:04:00            5    spices      Mo5  2019-09-02    2   \n",
       "5  2019-09-02 07:04:00            6    spices      Mo6  2019-09-02    2   \n",
       "6  2019-09-02 07:04:00            7    spices      Mo7  2019-09-02    2   \n",
       "7  2019-09-02 07:04:00            8     fruit      Mo8  2019-09-02    2   \n",
       "8  2019-09-02 07:05:00            1  checkout      Mo1  2019-09-02    2   \n",
       "9  2019-09-02 07:05:00            5  checkout      Mo5  2019-09-02    2   \n",
       "\n",
       "       time  hour     after  \n",
       "0  07:03:00     7  checkout  \n",
       "1  07:03:00     7  checkout  \n",
       "2  07:04:00     7  checkout  \n",
       "3  07:04:00     7  checkout  \n",
       "4  07:04:00     7  checkout  \n",
       "5  07:04:00     7     dairy  \n",
       "6  07:04:00     7    drinks  \n",
       "7  07:04:00     7  checkout  \n",
       "8  07:05:00     7       NaN  \n",
       "9  07:05:00     7       NaN  "
      ]
     },
     "execution_count": 102,
     "metadata": {},
     "output_type": "execute_result"
    }
   ],
   "source": [
    "week.head(10)"
   ]
  },
  {
   "cell_type": "code",
   "execution_count": 103,
   "id": "d0be851c",
   "metadata": {
    "scrolled": true
   },
   "outputs": [
    {
     "data": {
      "text/html": [
       "<div>\n",
       "<style scoped>\n",
       "    .dataframe tbody tr th:only-of-type {\n",
       "        vertical-align: middle;\n",
       "    }\n",
       "\n",
       "    .dataframe tbody tr th {\n",
       "        vertical-align: top;\n",
       "    }\n",
       "\n",
       "    .dataframe thead th {\n",
       "        text-align: right;\n",
       "    }\n",
       "</style>\n",
       "<table border=\"1\" class=\"dataframe\">\n",
       "  <thead>\n",
       "    <tr style=\"text-align: right;\">\n",
       "      <th></th>\n",
       "      <th>timestamp</th>\n",
       "      <th>customer_no</th>\n",
       "      <th>location</th>\n",
       "      <th>customer</th>\n",
       "      <th>date</th>\n",
       "      <th>day</th>\n",
       "      <th>time</th>\n",
       "      <th>hour</th>\n",
       "      <th>after</th>\n",
       "    </tr>\n",
       "  </thead>\n",
       "  <tbody>\n",
       "    <tr>\n",
       "      <th>0</th>\n",
       "      <td>2019-09-02 07:03:00</td>\n",
       "      <td>1</td>\n",
       "      <td>dairy</td>\n",
       "      <td>Mo1</td>\n",
       "      <td>2019-09-02</td>\n",
       "      <td>2</td>\n",
       "      <td>07:03:00</td>\n",
       "      <td>7</td>\n",
       "      <td>checkout</td>\n",
       "    </tr>\n",
       "    <tr>\n",
       "      <th>1</th>\n",
       "      <td>2019-09-02 07:03:00</td>\n",
       "      <td>2</td>\n",
       "      <td>dairy</td>\n",
       "      <td>Mo2</td>\n",
       "      <td>2019-09-02</td>\n",
       "      <td>2</td>\n",
       "      <td>07:03:00</td>\n",
       "      <td>7</td>\n",
       "      <td>checkout</td>\n",
       "    </tr>\n",
       "    <tr>\n",
       "      <th>2</th>\n",
       "      <td>2019-09-02 07:04:00</td>\n",
       "      <td>3</td>\n",
       "      <td>dairy</td>\n",
       "      <td>Mo3</td>\n",
       "      <td>2019-09-02</td>\n",
       "      <td>2</td>\n",
       "      <td>07:04:00</td>\n",
       "      <td>7</td>\n",
       "      <td>checkout</td>\n",
       "    </tr>\n",
       "    <tr>\n",
       "      <th>3</th>\n",
       "      <td>2019-09-02 07:04:00</td>\n",
       "      <td>4</td>\n",
       "      <td>dairy</td>\n",
       "      <td>Mo4</td>\n",
       "      <td>2019-09-02</td>\n",
       "      <td>2</td>\n",
       "      <td>07:04:00</td>\n",
       "      <td>7</td>\n",
       "      <td>checkout</td>\n",
       "    </tr>\n",
       "    <tr>\n",
       "      <th>4</th>\n",
       "      <td>2019-09-02 07:04:00</td>\n",
       "      <td>5</td>\n",
       "      <td>spices</td>\n",
       "      <td>Mo5</td>\n",
       "      <td>2019-09-02</td>\n",
       "      <td>2</td>\n",
       "      <td>07:04:00</td>\n",
       "      <td>7</td>\n",
       "      <td>checkout</td>\n",
       "    </tr>\n",
       "    <tr>\n",
       "      <th>5</th>\n",
       "      <td>2019-09-02 07:04:00</td>\n",
       "      <td>6</td>\n",
       "      <td>spices</td>\n",
       "      <td>Mo6</td>\n",
       "      <td>2019-09-02</td>\n",
       "      <td>2</td>\n",
       "      <td>07:04:00</td>\n",
       "      <td>7</td>\n",
       "      <td>dairy</td>\n",
       "    </tr>\n",
       "    <tr>\n",
       "      <th>6</th>\n",
       "      <td>2019-09-02 07:04:00</td>\n",
       "      <td>7</td>\n",
       "      <td>spices</td>\n",
       "      <td>Mo7</td>\n",
       "      <td>2019-09-02</td>\n",
       "      <td>2</td>\n",
       "      <td>07:04:00</td>\n",
       "      <td>7</td>\n",
       "      <td>drinks</td>\n",
       "    </tr>\n",
       "    <tr>\n",
       "      <th>7</th>\n",
       "      <td>2019-09-02 07:04:00</td>\n",
       "      <td>8</td>\n",
       "      <td>fruit</td>\n",
       "      <td>Mo8</td>\n",
       "      <td>2019-09-02</td>\n",
       "      <td>2</td>\n",
       "      <td>07:04:00</td>\n",
       "      <td>7</td>\n",
       "      <td>checkout</td>\n",
       "    </tr>\n",
       "    <tr>\n",
       "      <th>8</th>\n",
       "      <td>2019-09-02 07:05:00</td>\n",
       "      <td>1</td>\n",
       "      <td>checkout</td>\n",
       "      <td>Mo1</td>\n",
       "      <td>2019-09-02</td>\n",
       "      <td>2</td>\n",
       "      <td>07:05:00</td>\n",
       "      <td>7</td>\n",
       "      <td>checkout</td>\n",
       "    </tr>\n",
       "    <tr>\n",
       "      <th>9</th>\n",
       "      <td>2019-09-02 07:05:00</td>\n",
       "      <td>5</td>\n",
       "      <td>checkout</td>\n",
       "      <td>Mo5</td>\n",
       "      <td>2019-09-02</td>\n",
       "      <td>2</td>\n",
       "      <td>07:05:00</td>\n",
       "      <td>7</td>\n",
       "      <td>checkout</td>\n",
       "    </tr>\n",
       "  </tbody>\n",
       "</table>\n",
       "</div>"
      ],
      "text/plain": [
       "             timestamp  customer_no  location customer        date  day  \\\n",
       "0  2019-09-02 07:03:00            1     dairy      Mo1  2019-09-02    2   \n",
       "1  2019-09-02 07:03:00            2     dairy      Mo2  2019-09-02    2   \n",
       "2  2019-09-02 07:04:00            3     dairy      Mo3  2019-09-02    2   \n",
       "3  2019-09-02 07:04:00            4     dairy      Mo4  2019-09-02    2   \n",
       "4  2019-09-02 07:04:00            5    spices      Mo5  2019-09-02    2   \n",
       "5  2019-09-02 07:04:00            6    spices      Mo6  2019-09-02    2   \n",
       "6  2019-09-02 07:04:00            7    spices      Mo7  2019-09-02    2   \n",
       "7  2019-09-02 07:04:00            8     fruit      Mo8  2019-09-02    2   \n",
       "8  2019-09-02 07:05:00            1  checkout      Mo1  2019-09-02    2   \n",
       "9  2019-09-02 07:05:00            5  checkout      Mo5  2019-09-02    2   \n",
       "\n",
       "       time  hour     after  \n",
       "0  07:03:00     7  checkout  \n",
       "1  07:03:00     7  checkout  \n",
       "2  07:04:00     7  checkout  \n",
       "3  07:04:00     7  checkout  \n",
       "4  07:04:00     7  checkout  \n",
       "5  07:04:00     7     dairy  \n",
       "6  07:04:00     7    drinks  \n",
       "7  07:04:00     7  checkout  \n",
       "8  07:05:00     7  checkout  \n",
       "9  07:05:00     7  checkout  "
      ]
     },
     "execution_count": 103,
     "metadata": {},
     "output_type": "execute_result"
    }
   ],
   "source": [
    "week['after'] = week['after'].fillna(week['location'])\n",
    "week.head(10)"
   ]
  },
  {
   "cell_type": "code",
   "execution_count": 104,
   "id": "4817c74a",
   "metadata": {
    "scrolled": false
   },
   "outputs": [
    {
     "data": {
      "text/html": [
       "<div>\n",
       "<style scoped>\n",
       "    .dataframe tbody tr th:only-of-type {\n",
       "        vertical-align: middle;\n",
       "    }\n",
       "\n",
       "    .dataframe tbody tr th {\n",
       "        vertical-align: top;\n",
       "    }\n",
       "\n",
       "    .dataframe thead th {\n",
       "        text-align: right;\n",
       "    }\n",
       "</style>\n",
       "<table border=\"1\" class=\"dataframe\">\n",
       "  <thead>\n",
       "    <tr style=\"text-align: right;\">\n",
       "      <th>after</th>\n",
       "      <th>checkout</th>\n",
       "      <th>dairy</th>\n",
       "      <th>drinks</th>\n",
       "      <th>fruit</th>\n",
       "      <th>spices</th>\n",
       "    </tr>\n",
       "    <tr>\n",
       "      <th>location</th>\n",
       "      <th></th>\n",
       "      <th></th>\n",
       "      <th></th>\n",
       "      <th></th>\n",
       "      <th></th>\n",
       "    </tr>\n",
       "  </thead>\n",
       "  <tbody>\n",
       "    <tr>\n",
       "      <th>checkout</th>\n",
       "      <td>1.000000</td>\n",
       "      <td>0.000000</td>\n",
       "      <td>0.000000</td>\n",
       "      <td>0.000000</td>\n",
       "      <td>0.000000</td>\n",
       "    </tr>\n",
       "    <tr>\n",
       "      <th>dairy</th>\n",
       "      <td>0.390041</td>\n",
       "      <td>0.002992</td>\n",
       "      <td>0.222483</td>\n",
       "      <td>0.189357</td>\n",
       "      <td>0.195127</td>\n",
       "    </tr>\n",
       "    <tr>\n",
       "      <th>drinks</th>\n",
       "      <td>0.536748</td>\n",
       "      <td>0.027145</td>\n",
       "      <td>0.000512</td>\n",
       "      <td>0.218950</td>\n",
       "      <td>0.216645</td>\n",
       "    </tr>\n",
       "    <tr>\n",
       "      <th>fruit</th>\n",
       "      <td>0.498829</td>\n",
       "      <td>0.237993</td>\n",
       "      <td>0.136080</td>\n",
       "      <td>0.001367</td>\n",
       "      <td>0.125732</td>\n",
       "    </tr>\n",
       "    <tr>\n",
       "      <th>spices</th>\n",
       "      <td>0.250666</td>\n",
       "      <td>0.323122</td>\n",
       "      <td>0.272776</td>\n",
       "      <td>0.152104</td>\n",
       "      <td>0.001332</td>\n",
       "    </tr>\n",
       "  </tbody>\n",
       "</table>\n",
       "</div>"
      ],
      "text/plain": [
       "after     checkout     dairy    drinks     fruit    spices\n",
       "location                                                  \n",
       "checkout  1.000000  0.000000  0.000000  0.000000  0.000000\n",
       "dairy     0.390041  0.002992  0.222483  0.189357  0.195127\n",
       "drinks    0.536748  0.027145  0.000512  0.218950  0.216645\n",
       "fruit     0.498829  0.237993  0.136080  0.001367  0.125732\n",
       "spices    0.250666  0.323122  0.272776  0.152104  0.001332"
      ]
     },
     "execution_count": 104,
     "metadata": {},
     "output_type": "execute_result"
    }
   ],
   "source": [
    "trans_prob = pd.crosstab(week['location'], week['after'], normalize=0)\n",
    "trans_prob"
   ]
  },
  {
   "cell_type": "code",
   "execution_count": 116,
   "id": "0dbcca1f",
   "metadata": {},
   "outputs": [
    {
     "data": {
      "text/plain": [
       "array([5.36747759e-01, 2.71446863e-02, 5.12163892e-04, 2.18950064e-01,\n",
       "       2.16645327e-01])"
      ]
     },
     "execution_count": 116,
     "metadata": {},
     "output_type": "execute_result"
    }
   ],
   "source": [
    "prob_array = np.array(trans_prob)\n",
    "prob_array[2]"
   ]
  },
  {
   "cell_type": "code",
   "execution_count": 105,
   "id": "01bdd28a",
   "metadata": {},
   "outputs": [
    {
     "data": {
      "text/plain": [
       "<AxesSubplot:xlabel='after', ylabel='location'>"
      ]
     },
     "execution_count": 105,
     "metadata": {},
     "output_type": "execute_result"
    },
    {
     "data": {
      "image/png": "[encoded data removed]",
      "text/plain": [
       "<Figure size 1440x720 with 2 Axes>"
      ]
     },
     "metadata": {},
     "output_type": "display_data"
    }
   ],
   "source": [
    "sns.heatmap(trans_prob, annot=True, linewidths=.9)"
   ]
  },
  {
   "cell_type": "markdown",
   "id": "ccaf9635",
   "metadata": {},
   "source": [
    "## Customer Simulation"
   ]
  },
  {
   "cell_type": "code",
   "execution_count": 138,
   "id": "2ec91222",
   "metadata": {},
   "outputs": [],
   "source": [
    "class Customer():\n",
    "    '''a single customer that moves through the supermarket in a MCMC simulation'''\n",
    "\n",
    "    def __init__(self, name, budget=100):\n",
    "        self.name = name\n",
    "        self.state = random.choice(['spices', 'drinks', 'fruit', 'dairy'])\n",
    "        self.budget = budget\n",
    "        self.transition_probs = trans_prob \n",
    "        self.is_active = True\n",
    "   \n",
    "        \n",
    "    def __repr__(self):\n",
    "        return f'The customer called {self.name} is currently in aisle {self.state}. The budget is {self.budget}'\n",
    "    \n",
    "    def next_state(self):\n",
    "        \n",
    "        aisles = ['checkout', 'dairy', 'drinks', 'fruit', 'spices']\n",
    "        \n",
    "        if self.state == 'dairy':\n",
    "            self.state_new = choice(aisles, 1, p=(prob_array[1]))\n",
    "        elif self.state == 'drinks':\n",
    "            self.state_new = choice(aisles, 1, p=(prob_array[2]))\n",
    "        elif self.state == 'fruit':\n",
    "            self.state_new = choice(aisles, 1, p=(prob_array[3]))\n",
    "        elif self.state == 'spices':\n",
    "            self.state_new = choice(aisles, 1, p=(prob_array[4]))\n",
    "    \n",
    "        print(f'The customer has been in aisle {self.state} and is now in aisle {self.state_new}')\n",
    "        \n",
    "        if self.state == 'checkout':\n",
    "            self.set_status(False)  \n",
    "    \n",
    "    def is_active(self):\n",
    "        if self.state_new == 'checkout':\n",
    "            print('True')\n",
    "        else:\n",
    "            print('False')"
   ]
  },
  {
   "cell_type": "code",
   "execution_count": 139,
   "id": "9ed0fb12",
   "metadata": {},
   "outputs": [],
   "source": [
    "cust1 = Customer(\"Jake\")\n",
    "cust2 = Customer(\"Margaret\")"
   ]
  },
  {
   "cell_type": "code",
   "execution_count": 147,
   "id": "0d914486",
   "metadata": {
    "scrolled": true
   },
   "outputs": [
    {
     "data": {
      "text/plain": [
       "The customer called Margaret is currently in aisle fruit. The budget is 100"
      ]
     },
     "execution_count": 147,
     "metadata": {},
     "output_type": "execute_result"
    }
   ],
   "source": [
    "cust2"
   ]
  },
  {
   "cell_type": "code",
   "execution_count": 146,
   "id": "4453e77a",
   "metadata": {},
   "outputs": [
    {
     "name": "stdout",
     "output_type": "stream",
     "text": [
      "The customer has been in aisle fruit and is now in aisle ['dairy']\n"
     ]
    }
   ],
   "source": [
    "cust2.next_state()"
   ]
  },
  {
   "cell_type": "markdown",
   "id": "9abe4b41",
   "metadata": {
    "heading_collapsed": true
   },
   "source": [
    "## Exploratory Data Analysis"
   ]
  },
  {
   "cell_type": "markdown",
   "id": "ec5b2679",
   "metadata": {
    "hidden": true
   },
   "source": [
    "Analysis of customer behavior based on the monday data set"
   ]
  },
  {
   "cell_type": "markdown",
   "id": "3605c05a",
   "metadata": {
    "hidden": true
   },
   "source": [
    "### Missing values?"
   ]
  },
  {
   "cell_type": "code",
   "execution_count": 504,
   "id": "63134f35",
   "metadata": {
    "hidden": true
   },
   "outputs": [
    {
     "data": {
      "text/plain": [
       "timestamp      0\n",
       "customer_no    0\n",
       "location       0\n",
       "customer       0\n",
       "dtype: int64"
      ]
     },
     "execution_count": 504,
     "metadata": {},
     "output_type": "execute_result"
    }
   ],
   "source": [
    "monday.isnull().sum()"
   ]
  },
  {
   "cell_type": "markdown",
   "id": "f7b1e060",
   "metadata": {
    "hidden": true
   },
   "source": [
    "### Number of customers per day"
   ]
  },
  {
   "cell_type": "code",
   "execution_count": 505,
   "id": "6a800675",
   "metadata": {
    "hidden": true
   },
   "outputs": [
    {
     "data": {
      "text/plain": [
       "1447"
      ]
     },
     "execution_count": 505,
     "metadata": {},
     "output_type": "execute_result"
    }
   ],
   "source": [
    "monday['customer_no'].nunique()"
   ]
  },
  {
   "cell_type": "markdown",
   "id": "13dd54f0",
   "metadata": {
    "hidden": true
   },
   "source": [
    "### Calculate the total number of customers in each section"
   ]
  },
  {
   "cell_type": "code",
   "execution_count": 506,
   "id": "a6dbd15a",
   "metadata": {
    "hidden": true
   },
   "outputs": [
    {
     "data": {
      "text/plain": [
       "location\n",
       "checkout    1437\n",
       "dairy        720\n",
       "drinks       661\n",
       "fruit        827\n",
       "spices       584\n",
       "Name: customer_no, dtype: int64"
      ]
     },
     "execution_count": 506,
     "metadata": {},
     "output_type": "execute_result"
    }
   ],
   "source": [
    "monday.groupby(['location'])['customer_no'].nunique()"
   ]
  },
  {
   "cell_type": "markdown",
   "id": "84a54c32",
   "metadata": {
    "hidden": true
   },
   "source": [
    "### Calculate the total number of customers in each section over time"
   ]
  },
  {
   "cell_type": "code",
   "execution_count": 507,
   "id": "52207004",
   "metadata": {
    "hidden": true
   },
   "outputs": [
    {
     "data": {
      "text/plain": [
       "location  timestamp          \n",
       "checkout  2019-09-02 07:05:00    2\n",
       "          2019-09-02 07:06:00    2\n",
       "          2019-09-02 07:07:00    1\n",
       "          2019-09-02 07:08:00    3\n",
       "          2019-09-02 07:09:00    1\n",
       "                                ..\n",
       "spices    2019-09-02 21:43:00    1\n",
       "          2019-09-02 21:44:00    1\n",
       "          2019-09-02 21:46:00    2\n",
       "          2019-09-02 21:48:00    1\n",
       "          2019-09-02 21:49:00    2\n",
       "Name: customer_no, Length: 2797, dtype: int64"
      ]
     },
     "execution_count": 507,
     "metadata": {},
     "output_type": "execute_result"
    }
   ],
   "source": [
    "monday.groupby(['location', 'timestamp'])['customer_no'].nunique()"
   ]
  },
  {
   "cell_type": "code",
   "execution_count": 508,
   "id": "0fbbdc6c",
   "metadata": {
    "hidden": true
   },
   "outputs": [],
   "source": [
    "monday['hour'] = pd.to_datetime(monday['timestamp']).dt.hour"
   ]
  },
  {
   "cell_type": "code",
   "execution_count": 509,
   "id": "2b0ac611",
   "metadata": {
    "hidden": true,
    "scrolled": true
   },
   "outputs": [
    {
     "data": {
      "text/html": [
       "<div>\n",
       "<style scoped>\n",
       "    .dataframe tbody tr th:only-of-type {\n",
       "        vertical-align: middle;\n",
       "    }\n",
       "\n",
       "    .dataframe tbody tr th {\n",
       "        vertical-align: top;\n",
       "    }\n",
       "\n",
       "    .dataframe thead th {\n",
       "        text-align: right;\n",
       "    }\n",
       "</style>\n",
       "<table border=\"1\" class=\"dataframe\">\n",
       "  <thead>\n",
       "    <tr style=\"text-align: right;\">\n",
       "      <th></th>\n",
       "      <th>timestamp</th>\n",
       "      <th>customer_no</th>\n",
       "      <th>location</th>\n",
       "      <th>customer</th>\n",
       "      <th>hour</th>\n",
       "    </tr>\n",
       "  </thead>\n",
       "  <tbody>\n",
       "    <tr>\n",
       "      <th>0</th>\n",
       "      <td>2019-09-02 07:03:00</td>\n",
       "      <td>1</td>\n",
       "      <td>dairy</td>\n",
       "      <td>Mo1</td>\n",
       "      <td>7</td>\n",
       "    </tr>\n",
       "    <tr>\n",
       "      <th>1</th>\n",
       "      <td>2019-09-02 07:03:00</td>\n",
       "      <td>2</td>\n",
       "      <td>dairy</td>\n",
       "      <td>Mo2</td>\n",
       "      <td>7</td>\n",
       "    </tr>\n",
       "    <tr>\n",
       "      <th>2</th>\n",
       "      <td>2019-09-02 07:04:00</td>\n",
       "      <td>3</td>\n",
       "      <td>dairy</td>\n",
       "      <td>Mo3</td>\n",
       "      <td>7</td>\n",
       "    </tr>\n",
       "    <tr>\n",
       "      <th>3</th>\n",
       "      <td>2019-09-02 07:04:00</td>\n",
       "      <td>4</td>\n",
       "      <td>dairy</td>\n",
       "      <td>Mo4</td>\n",
       "      <td>7</td>\n",
       "    </tr>\n",
       "    <tr>\n",
       "      <th>4</th>\n",
       "      <td>2019-09-02 07:04:00</td>\n",
       "      <td>5</td>\n",
       "      <td>spices</td>\n",
       "      <td>Mo5</td>\n",
       "      <td>7</td>\n",
       "    </tr>\n",
       "  </tbody>\n",
       "</table>\n",
       "</div>"
      ],
      "text/plain": [
       "             timestamp  customer_no location customer  hour\n",
       "0  2019-09-02 07:03:00            1    dairy      Mo1     7\n",
       "1  2019-09-02 07:03:00            2    dairy      Mo2     7\n",
       "2  2019-09-02 07:04:00            3    dairy      Mo3     7\n",
       "3  2019-09-02 07:04:00            4    dairy      Mo4     7\n",
       "4  2019-09-02 07:04:00            5   spices      Mo5     7"
      ]
     },
     "execution_count": 509,
     "metadata": {},
     "output_type": "execute_result"
    }
   ],
   "source": [
    "monday.head()"
   ]
  },
  {
   "cell_type": "code",
   "execution_count": 510,
   "id": "0d9c013b",
   "metadata": {
    "hidden": true,
    "scrolled": false
   },
   "outputs": [
    {
     "data": {
      "text/html": [
       "<div>\n",
       "<style scoped>\n",
       "    .dataframe tbody tr th:only-of-type {\n",
       "        vertical-align: middle;\n",
       "    }\n",
       "\n",
       "    .dataframe tbody tr th {\n",
       "        vertical-align: top;\n",
       "    }\n",
       "\n",
       "    .dataframe thead th {\n",
       "        text-align: right;\n",
       "    }\n",
       "</style>\n",
       "<table border=\"1\" class=\"dataframe\">\n",
       "  <thead>\n",
       "    <tr style=\"text-align: right;\">\n",
       "      <th></th>\n",
       "      <th>location</th>\n",
       "      <th>hour</th>\n",
       "      <th>customer_no</th>\n",
       "    </tr>\n",
       "  </thead>\n",
       "  <tbody>\n",
       "    <tr>\n",
       "      <th>0</th>\n",
       "      <td>checkout</td>\n",
       "      <td>7</td>\n",
       "      <td>92</td>\n",
       "    </tr>\n",
       "    <tr>\n",
       "      <th>1</th>\n",
       "      <td>checkout</td>\n",
       "      <td>8</td>\n",
       "      <td>112</td>\n",
       "    </tr>\n",
       "    <tr>\n",
       "      <th>2</th>\n",
       "      <td>checkout</td>\n",
       "      <td>9</td>\n",
       "      <td>85</td>\n",
       "    </tr>\n",
       "    <tr>\n",
       "      <th>3</th>\n",
       "      <td>checkout</td>\n",
       "      <td>10</td>\n",
       "      <td>90</td>\n",
       "    </tr>\n",
       "    <tr>\n",
       "      <th>4</th>\n",
       "      <td>checkout</td>\n",
       "      <td>11</td>\n",
       "      <td>55</td>\n",
       "    </tr>\n",
       "    <tr>\n",
       "      <th>5</th>\n",
       "      <td>checkout</td>\n",
       "      <td>12</td>\n",
       "      <td>73</td>\n",
       "    </tr>\n",
       "    <tr>\n",
       "      <th>6</th>\n",
       "      <td>checkout</td>\n",
       "      <td>13</td>\n",
       "      <td>120</td>\n",
       "    </tr>\n",
       "    <tr>\n",
       "      <th>7</th>\n",
       "      <td>checkout</td>\n",
       "      <td>14</td>\n",
       "      <td>90</td>\n",
       "    </tr>\n",
       "    <tr>\n",
       "      <th>8</th>\n",
       "      <td>checkout</td>\n",
       "      <td>15</td>\n",
       "      <td>94</td>\n",
       "    </tr>\n",
       "    <tr>\n",
       "      <th>9</th>\n",
       "      <td>checkout</td>\n",
       "      <td>16</td>\n",
       "      <td>86</td>\n",
       "    </tr>\n",
       "    <tr>\n",
       "      <th>10</th>\n",
       "      <td>checkout</td>\n",
       "      <td>17</td>\n",
       "      <td>122</td>\n",
       "    </tr>\n",
       "    <tr>\n",
       "      <th>11</th>\n",
       "      <td>checkout</td>\n",
       "      <td>18</td>\n",
       "      <td>128</td>\n",
       "    </tr>\n",
       "    <tr>\n",
       "      <th>12</th>\n",
       "      <td>checkout</td>\n",
       "      <td>19</td>\n",
       "      <td>129</td>\n",
       "    </tr>\n",
       "    <tr>\n",
       "      <th>13</th>\n",
       "      <td>checkout</td>\n",
       "      <td>20</td>\n",
       "      <td>109</td>\n",
       "    </tr>\n",
       "    <tr>\n",
       "      <th>14</th>\n",
       "      <td>checkout</td>\n",
       "      <td>21</td>\n",
       "      <td>52</td>\n",
       "    </tr>\n",
       "  </tbody>\n",
       "</table>\n",
       "</div>"
      ],
      "text/plain": [
       "    location  hour  customer_no\n",
       "0   checkout     7           92\n",
       "1   checkout     8          112\n",
       "2   checkout     9           85\n",
       "3   checkout    10           90\n",
       "4   checkout    11           55\n",
       "5   checkout    12           73\n",
       "6   checkout    13          120\n",
       "7   checkout    14           90\n",
       "8   checkout    15           94\n",
       "9   checkout    16           86\n",
       "10  checkout    17          122\n",
       "11  checkout    18          128\n",
       "12  checkout    19          129\n",
       "13  checkout    20          109\n",
       "14  checkout    21           52"
      ]
     },
     "execution_count": 510,
     "metadata": {},
     "output_type": "execute_result"
    }
   ],
   "source": [
    "monday_hour = monday.groupby(['location', 'hour'])['customer_no'].nunique().reset_index()\n",
    "monday_hour.head(15)"
   ]
  },
  {
   "cell_type": "code",
   "execution_count": 511,
   "id": "024f4c4d",
   "metadata": {
    "hidden": true
   },
   "outputs": [
    {
     "data": {
      "text/plain": [
       "hour\n",
       "7     4\n",
       "8     5\n",
       "9     5\n",
       "10    5\n",
       "11    5\n",
       "12    5\n",
       "13    5\n",
       "14    5\n",
       "15    4\n",
       "16    5\n",
       "17    5\n",
       "18    4\n",
       "19    5\n",
       "20    5\n",
       "21    5\n",
       "Name: customer_no, dtype: int64"
      ]
     },
     "execution_count": 511,
     "metadata": {},
     "output_type": "execute_result"
    }
   ],
   "source": [
    "monday_hour.groupby(monday_hour['hour'])['customer_no'].nunique()"
   ]
  },
  {
   "cell_type": "markdown",
   "id": "51af4390",
   "metadata": {
    "hidden": true
   },
   "source": [
    "### Display the number of customers at checkout over time"
   ]
  },
  {
   "cell_type": "code",
   "execution_count": 46,
   "id": "1bb132c9",
   "metadata": {
    "hidden": true
   },
   "outputs": [
    {
     "ename": "ValueError",
     "evalue": "Could not interpret value `customer_no` for parameter `y`",
     "output_type": "error",
     "traceback": [
      "\u001b[0;31m---------------------------------------------------------------------------\u001b[0m",
      "\u001b[0;31mValueError\u001b[0m                                Traceback (most recent call last)",
      "Input \u001b[0;32mIn [46]\u001b[0m, in \u001b[0;36m<cell line: 1>\u001b[0;34m()\u001b[0m\n\u001b[0;32m----> 1\u001b[0m \u001b[43msns\u001b[49m\u001b[38;5;241;43m.\u001b[39;49m\u001b[43mlineplot\u001b[49m\u001b[43m(\u001b[49m\u001b[43mx\u001b[49m\u001b[38;5;241;43m=\u001b[39;49m\u001b[38;5;124;43m'\u001b[39;49m\u001b[38;5;124;43mhour\u001b[39;49m\u001b[38;5;124;43m'\u001b[39;49m\u001b[43m,\u001b[49m\u001b[43m \u001b[49m\u001b[43my\u001b[49m\u001b[38;5;241;43m=\u001b[39;49m\u001b[38;5;124;43m'\u001b[39;49m\u001b[38;5;124;43mcustomer_no\u001b[39;49m\u001b[38;5;124;43m'\u001b[39;49m\u001b[43m,\u001b[49m\u001b[43m \u001b[49m\u001b[43mdata\u001b[49m\u001b[43m \u001b[49m\u001b[38;5;241;43m=\u001b[39;49m\u001b[43m \u001b[49m\u001b[43msection_traffic\u001b[49m\u001b[38;5;241;43m.\u001b[39;49m\u001b[43mdf\u001b[49m\u001b[43m,\u001b[49m\u001b[43m \u001b[49m\u001b[43mhue\u001b[49m\u001b[38;5;241;43m=\u001b[39;49m\u001b[38;5;124;43m'\u001b[39;49m\u001b[38;5;124;43mlocation\u001b[39;49m\u001b[38;5;124;43m'\u001b[39;49m\u001b[43m,\u001b[49m\u001b[43m \u001b[49m\u001b[43mpalette\u001b[49m\u001b[38;5;241;43m=\u001b[39;49m\u001b[38;5;124;43m'\u001b[39;49m\u001b[38;5;124;43mSet2\u001b[39;49m\u001b[38;5;124;43m'\u001b[39;49m\u001b[43m)\u001b[49m\n\u001b[1;32m      2\u001b[0m sns\u001b[38;5;241m.\u001b[39mset(rc \u001b[38;5;241m=\u001b[39m {\u001b[38;5;124m'\u001b[39m\u001b[38;5;124mfigure.figsize\u001b[39m\u001b[38;5;124m'\u001b[39m:(\u001b[38;5;241m15\u001b[39m,\u001b[38;5;241m8\u001b[39m)})\n",
      "File \u001b[0;32m~/opt/anaconda3/lib/python3.9/site-packages/seaborn/_decorators.py:46\u001b[0m, in \u001b[0;36m_deprecate_positional_args.<locals>.inner_f\u001b[0;34m(*args, **kwargs)\u001b[0m\n\u001b[1;32m     36\u001b[0m     warnings\u001b[38;5;241m.\u001b[39mwarn(\n\u001b[1;32m     37\u001b[0m         \u001b[38;5;124m\"\u001b[39m\u001b[38;5;124mPass the following variable\u001b[39m\u001b[38;5;132;01m{}\u001b[39;00m\u001b[38;5;124m as \u001b[39m\u001b[38;5;132;01m{}\u001b[39;00m\u001b[38;5;124mkeyword arg\u001b[39m\u001b[38;5;132;01m{}\u001b[39;00m\u001b[38;5;124m: \u001b[39m\u001b[38;5;132;01m{}\u001b[39;00m\u001b[38;5;124m. \u001b[39m\u001b[38;5;124m\"\u001b[39m\n\u001b[1;32m     38\u001b[0m         \u001b[38;5;124m\"\u001b[39m\u001b[38;5;124mFrom version 0.12, the only valid positional argument \u001b[39m\u001b[38;5;124m\"\u001b[39m\n\u001b[0;32m   (...)\u001b[0m\n\u001b[1;32m     43\u001b[0m         \u001b[38;5;167;01mFutureWarning\u001b[39;00m\n\u001b[1;32m     44\u001b[0m     )\n\u001b[1;32m     45\u001b[0m kwargs\u001b[38;5;241m.\u001b[39mupdate({k: arg \u001b[38;5;28;01mfor\u001b[39;00m k, arg \u001b[38;5;129;01min\u001b[39;00m \u001b[38;5;28mzip\u001b[39m(sig\u001b[38;5;241m.\u001b[39mparameters, args)})\n\u001b[0;32m---> 46\u001b[0m \u001b[38;5;28;01mreturn\u001b[39;00m \u001b[43mf\u001b[49m\u001b[43m(\u001b[49m\u001b[38;5;241;43m*\u001b[39;49m\u001b[38;5;241;43m*\u001b[39;49m\u001b[43mkwargs\u001b[49m\u001b[43m)\u001b[49m\n",
      "File \u001b[0;32m~/opt/anaconda3/lib/python3.9/site-packages/seaborn/relational.py:692\u001b[0m, in \u001b[0;36mlineplot\u001b[0;34m(x, y, hue, size, style, data, palette, hue_order, hue_norm, sizes, size_order, size_norm, dashes, markers, style_order, units, estimator, ci, n_boot, seed, sort, err_style, err_kws, legend, ax, **kwargs)\u001b[0m\n\u001b[1;32m    677\u001b[0m \u001b[38;5;129m@_deprecate_positional_args\u001b[39m\n\u001b[1;32m    678\u001b[0m \u001b[38;5;28;01mdef\u001b[39;00m \u001b[38;5;21mlineplot\u001b[39m(\n\u001b[1;32m    679\u001b[0m     \u001b[38;5;241m*\u001b[39m,\n\u001b[0;32m   (...)\u001b[0m\n\u001b[1;32m    688\u001b[0m     legend\u001b[38;5;241m=\u001b[39m\u001b[38;5;124m\"\u001b[39m\u001b[38;5;124mauto\u001b[39m\u001b[38;5;124m\"\u001b[39m, ax\u001b[38;5;241m=\u001b[39m\u001b[38;5;28;01mNone\u001b[39;00m, \u001b[38;5;241m*\u001b[39m\u001b[38;5;241m*\u001b[39mkwargs\n\u001b[1;32m    689\u001b[0m ):\n\u001b[1;32m    691\u001b[0m     variables \u001b[38;5;241m=\u001b[39m _LinePlotter\u001b[38;5;241m.\u001b[39mget_semantics(\u001b[38;5;28mlocals\u001b[39m())\n\u001b[0;32m--> 692\u001b[0m     p \u001b[38;5;241m=\u001b[39m \u001b[43m_LinePlotter\u001b[49m\u001b[43m(\u001b[49m\n\u001b[1;32m    693\u001b[0m \u001b[43m        \u001b[49m\u001b[43mdata\u001b[49m\u001b[38;5;241;43m=\u001b[39;49m\u001b[43mdata\u001b[49m\u001b[43m,\u001b[49m\u001b[43m \u001b[49m\u001b[43mvariables\u001b[49m\u001b[38;5;241;43m=\u001b[39;49m\u001b[43mvariables\u001b[49m\u001b[43m,\u001b[49m\n\u001b[1;32m    694\u001b[0m \u001b[43m        \u001b[49m\u001b[43mestimator\u001b[49m\u001b[38;5;241;43m=\u001b[39;49m\u001b[43mestimator\u001b[49m\u001b[43m,\u001b[49m\u001b[43m \u001b[49m\u001b[43mci\u001b[49m\u001b[38;5;241;43m=\u001b[39;49m\u001b[43mci\u001b[49m\u001b[43m,\u001b[49m\u001b[43m \u001b[49m\u001b[43mn_boot\u001b[49m\u001b[38;5;241;43m=\u001b[39;49m\u001b[43mn_boot\u001b[49m\u001b[43m,\u001b[49m\u001b[43m \u001b[49m\u001b[43mseed\u001b[49m\u001b[38;5;241;43m=\u001b[39;49m\u001b[43mseed\u001b[49m\u001b[43m,\u001b[49m\n\u001b[1;32m    695\u001b[0m \u001b[43m        \u001b[49m\u001b[43msort\u001b[49m\u001b[38;5;241;43m=\u001b[39;49m\u001b[43msort\u001b[49m\u001b[43m,\u001b[49m\u001b[43m \u001b[49m\u001b[43merr_style\u001b[49m\u001b[38;5;241;43m=\u001b[39;49m\u001b[43merr_style\u001b[49m\u001b[43m,\u001b[49m\u001b[43m \u001b[49m\u001b[43merr_kws\u001b[49m\u001b[38;5;241;43m=\u001b[39;49m\u001b[43merr_kws\u001b[49m\u001b[43m,\u001b[49m\u001b[43m \u001b[49m\u001b[43mlegend\u001b[49m\u001b[38;5;241;43m=\u001b[39;49m\u001b[43mlegend\u001b[49m\u001b[43m,\u001b[49m\n\u001b[1;32m    696\u001b[0m \u001b[43m    \u001b[49m\u001b[43m)\u001b[49m\n\u001b[1;32m    698\u001b[0m     p\u001b[38;5;241m.\u001b[39mmap_hue(palette\u001b[38;5;241m=\u001b[39mpalette, order\u001b[38;5;241m=\u001b[39mhue_order, norm\u001b[38;5;241m=\u001b[39mhue_norm)\n\u001b[1;32m    699\u001b[0m     p\u001b[38;5;241m.\u001b[39mmap_size(sizes\u001b[38;5;241m=\u001b[39msizes, order\u001b[38;5;241m=\u001b[39msize_order, norm\u001b[38;5;241m=\u001b[39msize_norm)\n",
      "File \u001b[0;32m~/opt/anaconda3/lib/python3.9/site-packages/seaborn/relational.py:367\u001b[0m, in \u001b[0;36m_LinePlotter.__init__\u001b[0;34m(self, data, variables, estimator, ci, n_boot, seed, sort, err_style, err_kws, legend)\u001b[0m\n\u001b[1;32m    353\u001b[0m \u001b[38;5;28;01mdef\u001b[39;00m \u001b[38;5;21m__init__\u001b[39m(\n\u001b[1;32m    354\u001b[0m     \u001b[38;5;28mself\u001b[39m, \u001b[38;5;241m*\u001b[39m,\n\u001b[1;32m    355\u001b[0m     data\u001b[38;5;241m=\u001b[39m\u001b[38;5;28;01mNone\u001b[39;00m, variables\u001b[38;5;241m=\u001b[39m{},\n\u001b[0;32m   (...)\u001b[0m\n\u001b[1;32m    361\u001b[0m     \u001b[38;5;66;03m# the kind of plot to draw, but for the time being we need to set\u001b[39;00m\n\u001b[1;32m    362\u001b[0m     \u001b[38;5;66;03m# this information so the SizeMapping can use it\u001b[39;00m\n\u001b[1;32m    363\u001b[0m     \u001b[38;5;28mself\u001b[39m\u001b[38;5;241m.\u001b[39m_default_size_range \u001b[38;5;241m=\u001b[39m (\n\u001b[1;32m    364\u001b[0m         np\u001b[38;5;241m.\u001b[39mr_[\u001b[38;5;241m.5\u001b[39m, \u001b[38;5;241m2\u001b[39m] \u001b[38;5;241m*\u001b[39m mpl\u001b[38;5;241m.\u001b[39mrcParams[\u001b[38;5;124m\"\u001b[39m\u001b[38;5;124mlines.linewidth\u001b[39m\u001b[38;5;124m\"\u001b[39m]\n\u001b[1;32m    365\u001b[0m     )\n\u001b[0;32m--> 367\u001b[0m     \u001b[38;5;28;43msuper\u001b[39;49m\u001b[43m(\u001b[49m\u001b[43m)\u001b[49m\u001b[38;5;241;43m.\u001b[39;49m\u001b[38;5;21;43m__init__\u001b[39;49m\u001b[43m(\u001b[49m\u001b[43mdata\u001b[49m\u001b[38;5;241;43m=\u001b[39;49m\u001b[43mdata\u001b[49m\u001b[43m,\u001b[49m\u001b[43m \u001b[49m\u001b[43mvariables\u001b[49m\u001b[38;5;241;43m=\u001b[39;49m\u001b[43mvariables\u001b[49m\u001b[43m)\u001b[49m\n\u001b[1;32m    369\u001b[0m     \u001b[38;5;28mself\u001b[39m\u001b[38;5;241m.\u001b[39mestimator \u001b[38;5;241m=\u001b[39m estimator\n\u001b[1;32m    370\u001b[0m     \u001b[38;5;28mself\u001b[39m\u001b[38;5;241m.\u001b[39mci \u001b[38;5;241m=\u001b[39m ci\n",
      "File \u001b[0;32m~/opt/anaconda3/lib/python3.9/site-packages/seaborn/_core.py:605\u001b[0m, in \u001b[0;36mVectorPlotter.__init__\u001b[0;34m(self, data, variables)\u001b[0m\n\u001b[1;32m    603\u001b[0m \u001b[38;5;28;01mdef\u001b[39;00m \u001b[38;5;21m__init__\u001b[39m(\u001b[38;5;28mself\u001b[39m, data\u001b[38;5;241m=\u001b[39m\u001b[38;5;28;01mNone\u001b[39;00m, variables\u001b[38;5;241m=\u001b[39m{}):\n\u001b[0;32m--> 605\u001b[0m     \u001b[38;5;28;43mself\u001b[39;49m\u001b[38;5;241;43m.\u001b[39;49m\u001b[43massign_variables\u001b[49m\u001b[43m(\u001b[49m\u001b[43mdata\u001b[49m\u001b[43m,\u001b[49m\u001b[43m \u001b[49m\u001b[43mvariables\u001b[49m\u001b[43m)\u001b[49m\n\u001b[1;32m    607\u001b[0m     \u001b[38;5;28;01mfor\u001b[39;00m var, \u001b[38;5;28mcls\u001b[39m \u001b[38;5;129;01min\u001b[39;00m \u001b[38;5;28mself\u001b[39m\u001b[38;5;241m.\u001b[39m_semantic_mappings\u001b[38;5;241m.\u001b[39mitems():\n\u001b[1;32m    608\u001b[0m \n\u001b[1;32m    609\u001b[0m         \u001b[38;5;66;03m# Create the mapping function\u001b[39;00m\n\u001b[1;32m    610\u001b[0m         map_func \u001b[38;5;241m=\u001b[39m partial(\u001b[38;5;28mcls\u001b[39m\u001b[38;5;241m.\u001b[39mmap, plotter\u001b[38;5;241m=\u001b[39m\u001b[38;5;28mself\u001b[39m)\n",
      "File \u001b[0;32m~/opt/anaconda3/lib/python3.9/site-packages/seaborn/_core.py:668\u001b[0m, in \u001b[0;36mVectorPlotter.assign_variables\u001b[0;34m(self, data, variables)\u001b[0m\n\u001b[1;32m    666\u001b[0m \u001b[38;5;28;01melse\u001b[39;00m:\n\u001b[1;32m    667\u001b[0m     \u001b[38;5;28mself\u001b[39m\u001b[38;5;241m.\u001b[39minput_format \u001b[38;5;241m=\u001b[39m \u001b[38;5;124m\"\u001b[39m\u001b[38;5;124mlong\u001b[39m\u001b[38;5;124m\"\u001b[39m\n\u001b[0;32m--> 668\u001b[0m     plot_data, variables \u001b[38;5;241m=\u001b[39m \u001b[38;5;28;43mself\u001b[39;49m\u001b[38;5;241;43m.\u001b[39;49m\u001b[43m_assign_variables_longform\u001b[49m\u001b[43m(\u001b[49m\n\u001b[1;32m    669\u001b[0m \u001b[43m        \u001b[49m\u001b[43mdata\u001b[49m\u001b[43m,\u001b[49m\u001b[43m \u001b[49m\u001b[38;5;241;43m*\u001b[39;49m\u001b[38;5;241;43m*\u001b[39;49m\u001b[43mvariables\u001b[49m\u001b[43m,\u001b[49m\n\u001b[1;32m    670\u001b[0m \u001b[43m    \u001b[49m\u001b[43m)\u001b[49m\n\u001b[1;32m    672\u001b[0m \u001b[38;5;28mself\u001b[39m\u001b[38;5;241m.\u001b[39mplot_data \u001b[38;5;241m=\u001b[39m plot_data\n\u001b[1;32m    673\u001b[0m \u001b[38;5;28mself\u001b[39m\u001b[38;5;241m.\u001b[39mvariables \u001b[38;5;241m=\u001b[39m variables\n",
      "File \u001b[0;32m~/opt/anaconda3/lib/python3.9/site-packages/seaborn/_core.py:903\u001b[0m, in \u001b[0;36mVectorPlotter._assign_variables_longform\u001b[0;34m(self, data, **kwargs)\u001b[0m\n\u001b[1;32m    898\u001b[0m \u001b[38;5;28;01melif\u001b[39;00m \u001b[38;5;28misinstance\u001b[39m(val, (\u001b[38;5;28mstr\u001b[39m, \u001b[38;5;28mbytes\u001b[39m)):\n\u001b[1;32m    899\u001b[0m \n\u001b[1;32m    900\u001b[0m     \u001b[38;5;66;03m# This looks like a column name but we don't know what it means!\u001b[39;00m\n\u001b[1;32m    902\u001b[0m     err \u001b[38;5;241m=\u001b[39m \u001b[38;5;124mf\u001b[39m\u001b[38;5;124m\"\u001b[39m\u001b[38;5;124mCould not interpret value `\u001b[39m\u001b[38;5;132;01m{\u001b[39;00mval\u001b[38;5;132;01m}\u001b[39;00m\u001b[38;5;124m` for parameter `\u001b[39m\u001b[38;5;132;01m{\u001b[39;00mkey\u001b[38;5;132;01m}\u001b[39;00m\u001b[38;5;124m`\u001b[39m\u001b[38;5;124m\"\u001b[39m\n\u001b[0;32m--> 903\u001b[0m     \u001b[38;5;28;01mraise\u001b[39;00m \u001b[38;5;167;01mValueError\u001b[39;00m(err)\n\u001b[1;32m    905\u001b[0m \u001b[38;5;28;01melse\u001b[39;00m:\n\u001b[1;32m    906\u001b[0m \n\u001b[1;32m    907\u001b[0m     \u001b[38;5;66;03m# Otherwise, assume the value is itself data\u001b[39;00m\n\u001b[1;32m    908\u001b[0m \n\u001b[1;32m    909\u001b[0m     \u001b[38;5;66;03m# Raise when data object is present and a vector can't matched\u001b[39;00m\n\u001b[1;32m    910\u001b[0m     \u001b[38;5;28;01mif\u001b[39;00m \u001b[38;5;28misinstance\u001b[39m(data, pd\u001b[38;5;241m.\u001b[39mDataFrame) \u001b[38;5;129;01mand\u001b[39;00m \u001b[38;5;129;01mnot\u001b[39;00m \u001b[38;5;28misinstance\u001b[39m(val, pd\u001b[38;5;241m.\u001b[39mSeries):\n",
      "\u001b[0;31mValueError\u001b[0m: Could not interpret value `customer_no` for parameter `y`"
     ]
    }
   ],
   "source": [
    "sns.lineplot(x='hour', y='customer_no', data = section_traffic.df, hue='location', palette='Set2')\n",
    "sns.set(rc = {'figure.figsize':(15,8)})"
   ]
  },
  {
   "cell_type": "markdown",
   "id": "d0853cf4",
   "metadata": {
    "hidden": true
   },
   "source": [
    "### Calculate the time each customer spent in the market"
   ]
  },
  {
   "cell_type": "code",
   "execution_count": 513,
   "id": "9e447661",
   "metadata": {
    "hidden": true
   },
   "outputs": [
    {
     "name": "stdout",
     "output_type": "stream",
     "text": [
      "<class 'pandas.core.frame.DataFrame'>\n",
      "RangeIndex: 4884 entries, 0 to 4883\n",
      "Data columns (total 5 columns):\n",
      " #   Column       Non-Null Count  Dtype \n",
      "---  ------       --------------  ----- \n",
      " 0   timestamp    4884 non-null   object\n",
      " 1   customer_no  4884 non-null   int64 \n",
      " 2   location     4884 non-null   object\n",
      " 3   customer     4884 non-null   object\n",
      " 4   hour         4884 non-null   int64 \n",
      "dtypes: int64(2), object(3)\n",
      "memory usage: 190.9+ KB\n"
     ]
    }
   ],
   "source": [
    "monday.info()"
   ]
  },
  {
   "cell_type": "code",
   "execution_count": 514,
   "id": "65f659b7",
   "metadata": {
    "hidden": true,
    "scrolled": true
   },
   "outputs": [
    {
     "data": {
      "text/html": [
       "<div>\n",
       "<style scoped>\n",
       "    .dataframe tbody tr th:only-of-type {\n",
       "        vertical-align: middle;\n",
       "    }\n",
       "\n",
       "    .dataframe tbody tr th {\n",
       "        vertical-align: top;\n",
       "    }\n",
       "\n",
       "    .dataframe thead th {\n",
       "        text-align: right;\n",
       "    }\n",
       "</style>\n",
       "<table border=\"1\" class=\"dataframe\">\n",
       "  <thead>\n",
       "    <tr style=\"text-align: right;\">\n",
       "      <th></th>\n",
       "      <th>timestamp</th>\n",
       "      <th>customer_no</th>\n",
       "      <th>location</th>\n",
       "      <th>customer</th>\n",
       "      <th>hour</th>\n",
       "    </tr>\n",
       "  </thead>\n",
       "  <tbody>\n",
       "    <tr>\n",
       "      <th>0</th>\n",
       "      <td>2019-09-02 07:03:00</td>\n",
       "      <td>1</td>\n",
       "      <td>dairy</td>\n",
       "      <td>Mo1</td>\n",
       "      <td>7</td>\n",
       "    </tr>\n",
       "    <tr>\n",
       "      <th>1</th>\n",
       "      <td>2019-09-02 07:03:00</td>\n",
       "      <td>2</td>\n",
       "      <td>dairy</td>\n",
       "      <td>Mo2</td>\n",
       "      <td>7</td>\n",
       "    </tr>\n",
       "    <tr>\n",
       "      <th>2</th>\n",
       "      <td>2019-09-02 07:04:00</td>\n",
       "      <td>3</td>\n",
       "      <td>dairy</td>\n",
       "      <td>Mo3</td>\n",
       "      <td>7</td>\n",
       "    </tr>\n",
       "    <tr>\n",
       "      <th>3</th>\n",
       "      <td>2019-09-02 07:04:00</td>\n",
       "      <td>4</td>\n",
       "      <td>dairy</td>\n",
       "      <td>Mo4</td>\n",
       "      <td>7</td>\n",
       "    </tr>\n",
       "    <tr>\n",
       "      <th>4</th>\n",
       "      <td>2019-09-02 07:04:00</td>\n",
       "      <td>5</td>\n",
       "      <td>spices</td>\n",
       "      <td>Mo5</td>\n",
       "      <td>7</td>\n",
       "    </tr>\n",
       "  </tbody>\n",
       "</table>\n",
       "</div>"
      ],
      "text/plain": [
       "             timestamp  customer_no location customer  hour\n",
       "0  2019-09-02 07:03:00            1    dairy      Mo1     7\n",
       "1  2019-09-02 07:03:00            2    dairy      Mo2     7\n",
       "2  2019-09-02 07:04:00            3    dairy      Mo3     7\n",
       "3  2019-09-02 07:04:00            4    dairy      Mo4     7\n",
       "4  2019-09-02 07:04:00            5   spices      Mo5     7"
      ]
     },
     "execution_count": 514,
     "metadata": {},
     "output_type": "execute_result"
    }
   ],
   "source": [
    "monday.head()"
   ]
  },
  {
   "cell_type": "code",
   "execution_count": 515,
   "id": "796db421",
   "metadata": {
    "hidden": true,
    "scrolled": true
   },
   "outputs": [],
   "source": [
    "#monday['date'] = pd.to_datetime(monday['timestamp']).dt.date\n",
    "#monday['time'] = pd.to_datetime(monday['timestamp']).dt.time\n",
    "#monday.head(5)"
   ]
  },
  {
   "cell_type": "code",
   "execution_count": 516,
   "id": "f469aba5",
   "metadata": {
    "hidden": true,
    "scrolled": false
   },
   "outputs": [
    {
     "data": {
      "text/html": [
       "<div>\n",
       "<style scoped>\n",
       "    .dataframe tbody tr th:only-of-type {\n",
       "        vertical-align: middle;\n",
       "    }\n",
       "\n",
       "    .dataframe tbody tr th {\n",
       "        vertical-align: top;\n",
       "    }\n",
       "\n",
       "    .dataframe thead th {\n",
       "        text-align: right;\n",
       "    }\n",
       "</style>\n",
       "<table border=\"1\" class=\"dataframe\">\n",
       "  <thead>\n",
       "    <tr style=\"text-align: right;\">\n",
       "      <th></th>\n",
       "      <th>entry</th>\n",
       "      <th>hour</th>\n",
       "      <th>exit</th>\n",
       "    </tr>\n",
       "    <tr>\n",
       "      <th>customer</th>\n",
       "      <th></th>\n",
       "      <th></th>\n",
       "      <th></th>\n",
       "    </tr>\n",
       "  </thead>\n",
       "  <tbody>\n",
       "    <tr>\n",
       "      <th>Mo1</th>\n",
       "      <td>2019-09-02 07:03:00</td>\n",
       "      <td>7</td>\n",
       "      <td>2019-09-02 07:05:00</td>\n",
       "    </tr>\n",
       "    <tr>\n",
       "      <th>Mo10</th>\n",
       "      <td>2019-09-02 07:06:00</td>\n",
       "      <td>7</td>\n",
       "      <td>2019-09-02 07:08:00</td>\n",
       "    </tr>\n",
       "    <tr>\n",
       "      <th>Mo100</th>\n",
       "      <td>2019-09-02 07:56:00</td>\n",
       "      <td>7</td>\n",
       "      <td>2019-09-02 08:03:00</td>\n",
       "    </tr>\n",
       "    <tr>\n",
       "      <th>Mo1000</th>\n",
       "      <td>2019-09-02 17:44:00</td>\n",
       "      <td>17</td>\n",
       "      <td>2019-09-02 17:51:00</td>\n",
       "    </tr>\n",
       "    <tr>\n",
       "      <th>Mo1001</th>\n",
       "      <td>2019-09-02 17:45:00</td>\n",
       "      <td>17</td>\n",
       "      <td>2019-09-02 17:46:00</td>\n",
       "    </tr>\n",
       "  </tbody>\n",
       "</table>\n",
       "</div>"
      ],
      "text/plain": [
       "                        entry  hour                 exit\n",
       "customer                                                \n",
       "Mo1       2019-09-02 07:03:00     7  2019-09-02 07:05:00\n",
       "Mo10      2019-09-02 07:06:00     7  2019-09-02 07:08:00\n",
       "Mo100     2019-09-02 07:56:00     7  2019-09-02 08:03:00\n",
       "Mo1000    2019-09-02 17:44:00    17  2019-09-02 17:51:00\n",
       "Mo1001    2019-09-02 17:45:00    17  2019-09-02 17:46:00"
      ]
     },
     "execution_count": 516,
     "metadata": {},
     "output_type": "execute_result"
    }
   ],
   "source": [
    "# Entrytime of customer \n",
    "entrytime = monday[['timestamp','customer', 'hour']].groupby('customer').min()\n",
    "entrytime = entrytime.rename(columns={'timestamp': 'entry'})\n",
    "\n",
    "#Exittime of customer\n",
    "exittime = monday[['timestamp','customer']].groupby('customer').max()\n",
    "exittime = exittime.rename(columns={'timestamp': 'exit'})\n",
    "\n",
    "#Dataframe creation of entry and exit\n",
    "merge = pd.concat([entrytime, exittime], axis=1)\n",
    "merge.head()"
   ]
  },
  {
   "cell_type": "code",
   "execution_count": 517,
   "id": "9f816750",
   "metadata": {
    "hidden": true,
    "scrolled": false
   },
   "outputs": [
    {
     "data": {
      "text/html": [
       "<div>\n",
       "<style scoped>\n",
       "    .dataframe tbody tr th:only-of-type {\n",
       "        vertical-align: middle;\n",
       "    }\n",
       "\n",
       "    .dataframe tbody tr th {\n",
       "        vertical-align: top;\n",
       "    }\n",
       "\n",
       "    .dataframe thead th {\n",
       "        text-align: right;\n",
       "    }\n",
       "</style>\n",
       "<table border=\"1\" class=\"dataframe\">\n",
       "  <thead>\n",
       "    <tr style=\"text-align: right;\">\n",
       "      <th></th>\n",
       "      <th>entry</th>\n",
       "      <th>hour</th>\n",
       "      <th>exit</th>\n",
       "      <th>duration</th>\n",
       "    </tr>\n",
       "    <tr>\n",
       "      <th>customer</th>\n",
       "      <th></th>\n",
       "      <th></th>\n",
       "      <th></th>\n",
       "      <th></th>\n",
       "    </tr>\n",
       "  </thead>\n",
       "  <tbody>\n",
       "    <tr>\n",
       "      <th>Mo1</th>\n",
       "      <td>2019-09-02 07:03:00</td>\n",
       "      <td>7</td>\n",
       "      <td>2019-09-02 07:05:00</td>\n",
       "      <td>0 days 00:02:00</td>\n",
       "    </tr>\n",
       "    <tr>\n",
       "      <th>Mo10</th>\n",
       "      <td>2019-09-02 07:06:00</td>\n",
       "      <td>7</td>\n",
       "      <td>2019-09-02 07:08:00</td>\n",
       "      <td>0 days 00:02:00</td>\n",
       "    </tr>\n",
       "    <tr>\n",
       "      <th>Mo100</th>\n",
       "      <td>2019-09-02 07:56:00</td>\n",
       "      <td>7</td>\n",
       "      <td>2019-09-02 08:03:00</td>\n",
       "      <td>0 days 00:07:00</td>\n",
       "    </tr>\n",
       "    <tr>\n",
       "      <th>Mo1000</th>\n",
       "      <td>2019-09-02 17:44:00</td>\n",
       "      <td>17</td>\n",
       "      <td>2019-09-02 17:51:00</td>\n",
       "      <td>0 days 00:07:00</td>\n",
       "    </tr>\n",
       "    <tr>\n",
       "      <th>Mo1001</th>\n",
       "      <td>2019-09-02 17:45:00</td>\n",
       "      <td>17</td>\n",
       "      <td>2019-09-02 17:46:00</td>\n",
       "      <td>0 days 00:01:00</td>\n",
       "    </tr>\n",
       "  </tbody>\n",
       "</table>\n",
       "</div>"
      ],
      "text/plain": [
       "                        entry  hour                 exit        duration\n",
       "customer                                                                \n",
       "Mo1       2019-09-02 07:03:00     7  2019-09-02 07:05:00 0 days 00:02:00\n",
       "Mo10      2019-09-02 07:06:00     7  2019-09-02 07:08:00 0 days 00:02:00\n",
       "Mo100     2019-09-02 07:56:00     7  2019-09-02 08:03:00 0 days 00:07:00\n",
       "Mo1000    2019-09-02 17:44:00    17  2019-09-02 17:51:00 0 days 00:07:00\n",
       "Mo1001    2019-09-02 17:45:00    17  2019-09-02 17:46:00 0 days 00:01:00"
      ]
     },
     "execution_count": 517,
     "metadata": {},
     "output_type": "execute_result"
    }
   ],
   "source": [
    "#Calcuation of stay duration of each customer\n",
    "merge['duration'] = pd.to_datetime(merge['exit']) - pd.to_datetime(merge['entry'])\n",
    "merge.head()"
   ]
  },
  {
   "cell_type": "code",
   "execution_count": 891,
   "id": "21367406",
   "metadata": {
    "hidden": true
   },
   "outputs": [
    {
     "data": {
      "text/html": [
       "<div>\n",
       "<style scoped>\n",
       "    .dataframe tbody tr th:only-of-type {\n",
       "        vertical-align: middle;\n",
       "    }\n",
       "\n",
       "    .dataframe tbody tr th {\n",
       "        vertical-align: top;\n",
       "    }\n",
       "\n",
       "    .dataframe thead th {\n",
       "        text-align: right;\n",
       "    }\n",
       "</style>\n",
       "<table border=\"1\" class=\"dataframe\">\n",
       "  <thead>\n",
       "    <tr style=\"text-align: right;\">\n",
       "      <th></th>\n",
       "      <th>duration</th>\n",
       "    </tr>\n",
       "    <tr>\n",
       "      <th>hour</th>\n",
       "      <th></th>\n",
       "    </tr>\n",
       "  </thead>\n",
       "  <tbody>\n",
       "    <tr>\n",
       "      <th>7</th>\n",
       "      <td>0 days 00:06:13.529411764</td>\n",
       "    </tr>\n",
       "    <tr>\n",
       "      <th>8</th>\n",
       "      <td>0 days 00:06:40.353982300</td>\n",
       "    </tr>\n",
       "    <tr>\n",
       "      <th>9</th>\n",
       "      <td>0 days 00:07:04.772727272</td>\n",
       "    </tr>\n",
       "    <tr>\n",
       "      <th>10</th>\n",
       "      <td>0 days 00:06:35.250000</td>\n",
       "    </tr>\n",
       "    <tr>\n",
       "      <th>11</th>\n",
       "      <td>0 days 00:05:31.071428571</td>\n",
       "    </tr>\n",
       "    <tr>\n",
       "      <th>12</th>\n",
       "      <td>0 days 00:07:13.670886075</td>\n",
       "    </tr>\n",
       "    <tr>\n",
       "      <th>13</th>\n",
       "      <td>0 days 00:06:50.420168067</td>\n",
       "    </tr>\n",
       "    <tr>\n",
       "      <th>14</th>\n",
       "      <td>0 days 00:06:33.488372093</td>\n",
       "    </tr>\n",
       "    <tr>\n",
       "      <th>15</th>\n",
       "      <td>0 days 00:07:12.127659574</td>\n",
       "    </tr>\n",
       "    <tr>\n",
       "      <th>16</th>\n",
       "      <td>0 days 00:06:20</td>\n",
       "    </tr>\n",
       "    <tr>\n",
       "      <th>17</th>\n",
       "      <td>0 days 00:06:22.881355932</td>\n",
       "    </tr>\n",
       "    <tr>\n",
       "      <th>18</th>\n",
       "      <td>0 days 00:06:36.690647482</td>\n",
       "    </tr>\n",
       "    <tr>\n",
       "      <th>19</th>\n",
       "      <td>0 days 00:05:27</td>\n",
       "    </tr>\n",
       "    <tr>\n",
       "      <th>20</th>\n",
       "      <td>0 days 00:06:41.142857142</td>\n",
       "    </tr>\n",
       "    <tr>\n",
       "      <th>21</th>\n",
       "      <td>0 days 00:04:07.636363636</td>\n",
       "    </tr>\n",
       "  </tbody>\n",
       "</table>\n",
       "</div>"
      ],
      "text/plain": [
       "                      duration\n",
       "hour                          \n",
       "7    0 days 00:06:13.529411764\n",
       "8    0 days 00:06:40.353982300\n",
       "9    0 days 00:07:04.772727272\n",
       "10      0 days 00:06:35.250000\n",
       "11   0 days 00:05:31.071428571\n",
       "12   0 days 00:07:13.670886075\n",
       "13   0 days 00:06:50.420168067\n",
       "14   0 days 00:06:33.488372093\n",
       "15   0 days 00:07:12.127659574\n",
       "16             0 days 00:06:20\n",
       "17   0 days 00:06:22.881355932\n",
       "18   0 days 00:06:36.690647482\n",
       "19             0 days 00:05:27\n",
       "20   0 days 00:06:41.142857142\n",
       "21   0 days 00:04:07.636363636"
      ]
     },
     "execution_count": 891,
     "metadata": {},
     "output_type": "execute_result"
    }
   ],
   "source": [
    "avg_time = merge.groupby(['hour'])['duration'].mean()\n",
    "avg_time_df = pd.DataFrame(avg_time)\n",
    "\n",
    "avg_time_df"
   ]
  },
  {
   "cell_type": "code",
   "execution_count": 895,
   "id": "c0db0df3",
   "metadata": {
    "hidden": true
   },
   "outputs": [],
   "source": [
    "avg_time_df = avg_time_df.reset_index()"
   ]
  },
  {
   "cell_type": "code",
   "execution_count": 900,
   "id": "d7b2ba96",
   "metadata": {
    "hidden": true,
    "scrolled": true
   },
   "outputs": [
    {
     "name": "stdout",
     "output_type": "stream",
     "text": [
      "<class 'pandas.core.frame.DataFrame'>\n",
      "RangeIndex: 15 entries, 0 to 14\n",
      "Data columns (total 2 columns):\n",
      " #   Column    Non-Null Count  Dtype          \n",
      "---  ------    --------------  -----          \n",
      " 0   hour      15 non-null     int64          \n",
      " 1   duration  15 non-null     timedelta64[ns]\n",
      "dtypes: int64(1), timedelta64[ns](1)\n",
      "memory usage: 368.0 bytes\n"
     ]
    }
   ],
   "source": [
    "avg_time_df.info()"
   ]
  },
  {
   "cell_type": "code",
   "execution_count": 899,
   "id": "8f79fd45",
   "metadata": {
    "hidden": true,
    "scrolled": true
   },
   "outputs": [
    {
     "data": {
      "text/plain": [
       "<AxesSubplot:xlabel='hour', ylabel='duration'>"
      ]
     },
     "execution_count": 899,
     "metadata": {},
     "output_type": "execute_result"
    },
    {
     "data": {
      "image/png": "[encoded data removed]",
      "text/plain": [
       "<Figure size 1080x576 with 1 Axes>"
      ]
     },
     "metadata": {},
     "output_type": "display_data"
    }
   ],
   "source": [
    "sns.lineplot(x='hour', y='duration', data = avg_time_df)"
   ]
  },
  {
   "cell_type": "code",
   "execution_count": 518,
   "id": "4216726a",
   "metadata": {
    "hidden": true,
    "scrolled": false
   },
   "outputs": [
    {
     "data": {
      "text/plain": [
       "count                         1447\n",
       "mean     0 days 00:06:26.371803731\n",
       "std      0 days 00:06:20.300576298\n",
       "min                0 days 00:00:00\n",
       "25%                0 days 00:02:00\n",
       "50%                0 days 00:04:00\n",
       "75%                0 days 00:08:00\n",
       "max                0 days 00:51:00\n",
       "Name: duration, dtype: object"
      ]
     },
     "execution_count": 518,
     "metadata": {},
     "output_type": "execute_result"
    }
   ],
   "source": [
    "merge['duration'].describe()"
   ]
  },
  {
   "cell_type": "code",
   "execution_count": 519,
   "id": "01ef001b",
   "metadata": {
    "hidden": true
   },
   "outputs": [],
   "source": [
    "#Calculation of duration depending on entry hour\n"
   ]
  },
  {
   "cell_type": "markdown",
   "id": "cf4cd0bc",
   "metadata": {
    "hidden": true
   },
   "source": [
    "### Calculate the total number of customers in the supermarket over time."
   ]
  },
  {
   "cell_type": "code",
   "execution_count": 520,
   "id": "9f8ea0d6",
   "metadata": {
    "hidden": true,
    "scrolled": true
   },
   "outputs": [
    {
     "data": {
      "text/html": [
       "<div>\n",
       "<style scoped>\n",
       "    .dataframe tbody tr th:only-of-type {\n",
       "        vertical-align: middle;\n",
       "    }\n",
       "\n",
       "    .dataframe tbody tr th {\n",
       "        vertical-align: top;\n",
       "    }\n",
       "\n",
       "    .dataframe thead th {\n",
       "        text-align: right;\n",
       "    }\n",
       "</style>\n",
       "<table border=\"1\" class=\"dataframe\">\n",
       "  <thead>\n",
       "    <tr style=\"text-align: right;\">\n",
       "      <th></th>\n",
       "      <th>timestamp</th>\n",
       "      <th>customer_no</th>\n",
       "      <th>location</th>\n",
       "      <th>customer</th>\n",
       "      <th>hour</th>\n",
       "    </tr>\n",
       "  </thead>\n",
       "  <tbody>\n",
       "    <tr>\n",
       "      <th>0</th>\n",
       "      <td>2019-09-02 07:03:00</td>\n",
       "      <td>1</td>\n",
       "      <td>dairy</td>\n",
       "      <td>Mo1</td>\n",
       "      <td>7</td>\n",
       "    </tr>\n",
       "    <tr>\n",
       "      <th>1</th>\n",
       "      <td>2019-09-02 07:03:00</td>\n",
       "      <td>2</td>\n",
       "      <td>dairy</td>\n",
       "      <td>Mo2</td>\n",
       "      <td>7</td>\n",
       "    </tr>\n",
       "    <tr>\n",
       "      <th>2</th>\n",
       "      <td>2019-09-02 07:04:00</td>\n",
       "      <td>3</td>\n",
       "      <td>dairy</td>\n",
       "      <td>Mo3</td>\n",
       "      <td>7</td>\n",
       "    </tr>\n",
       "    <tr>\n",
       "      <th>3</th>\n",
       "      <td>2019-09-02 07:04:00</td>\n",
       "      <td>4</td>\n",
       "      <td>dairy</td>\n",
       "      <td>Mo4</td>\n",
       "      <td>7</td>\n",
       "    </tr>\n",
       "    <tr>\n",
       "      <th>4</th>\n",
       "      <td>2019-09-02 07:04:00</td>\n",
       "      <td>5</td>\n",
       "      <td>spices</td>\n",
       "      <td>Mo5</td>\n",
       "      <td>7</td>\n",
       "    </tr>\n",
       "    <tr>\n",
       "      <th>...</th>\n",
       "      <td>...</td>\n",
       "      <td>...</td>\n",
       "      <td>...</td>\n",
       "      <td>...</td>\n",
       "      <td>...</td>\n",
       "    </tr>\n",
       "    <tr>\n",
       "      <th>4867</th>\n",
       "      <td>2019-09-02 21:47:00</td>\n",
       "      <td>1443</td>\n",
       "      <td>fruit</td>\n",
       "      <td>Mo1443</td>\n",
       "      <td>21</td>\n",
       "    </tr>\n",
       "    <tr>\n",
       "      <th>4874</th>\n",
       "      <td>2019-09-02 21:48:00</td>\n",
       "      <td>1444</td>\n",
       "      <td>spices</td>\n",
       "      <td>Mo1444</td>\n",
       "      <td>21</td>\n",
       "    </tr>\n",
       "    <tr>\n",
       "      <th>4881</th>\n",
       "      <td>2019-09-02 21:49:00</td>\n",
       "      <td>1445</td>\n",
       "      <td>dairy</td>\n",
       "      <td>Mo1445</td>\n",
       "      <td>21</td>\n",
       "    </tr>\n",
       "    <tr>\n",
       "      <th>4882</th>\n",
       "      <td>2019-09-02 21:50:00</td>\n",
       "      <td>1446</td>\n",
       "      <td>dairy</td>\n",
       "      <td>Mo1446</td>\n",
       "      <td>21</td>\n",
       "    </tr>\n",
       "    <tr>\n",
       "      <th>4883</th>\n",
       "      <td>2019-09-02 21:50:00</td>\n",
       "      <td>1447</td>\n",
       "      <td>fruit</td>\n",
       "      <td>Mo1447</td>\n",
       "      <td>21</td>\n",
       "    </tr>\n",
       "  </tbody>\n",
       "</table>\n",
       "<p>1447 rows × 5 columns</p>\n",
       "</div>"
      ],
      "text/plain": [
       "                timestamp  customer_no location customer  hour\n",
       "0     2019-09-02 07:03:00            1    dairy      Mo1     7\n",
       "1     2019-09-02 07:03:00            2    dairy      Mo2     7\n",
       "2     2019-09-02 07:04:00            3    dairy      Mo3     7\n",
       "3     2019-09-02 07:04:00            4    dairy      Mo4     7\n",
       "4     2019-09-02 07:04:00            5   spices      Mo5     7\n",
       "...                   ...          ...      ...      ...   ...\n",
       "4867  2019-09-02 21:47:00         1443    fruit   Mo1443    21\n",
       "4874  2019-09-02 21:48:00         1444   spices   Mo1444    21\n",
       "4881  2019-09-02 21:49:00         1445    dairy   Mo1445    21\n",
       "4882  2019-09-02 21:50:00         1446    dairy   Mo1446    21\n",
       "4883  2019-09-02 21:50:00         1447    fruit   Mo1447    21\n",
       "\n",
       "[1447 rows x 5 columns]"
      ]
     },
     "execution_count": 520,
     "metadata": {},
     "output_type": "execute_result"
    }
   ],
   "source": [
    "time = monday.drop_duplicates(subset=[\"customer_no\"], keep='first')\n",
    "time"
   ]
  },
  {
   "cell_type": "code",
   "execution_count": 521,
   "id": "e039461a",
   "metadata": {
    "hidden": true,
    "scrolled": true
   },
   "outputs": [
    {
     "name": "stderr",
     "output_type": "stream",
     "text": [
      "/var/folders/py/2yb9z9p52zgfhxcjm27d9nw00000gn/T/ipykernel_13628/809510992.py:1: SettingWithCopyWarning: \n",
      "A value is trying to be set on a copy of a slice from a DataFrame.\n",
      "Try using .loc[row_indexer,col_indexer] = value instead\n",
      "\n",
      "See the caveats in the documentation: https://pandas.pydata.org/pandas-docs/stable/user_guide/indexing.html#returning-a-view-versus-a-copy\n",
      "  time['count'] = 1\n"
     ]
    }
   ],
   "source": [
    "time['count'] = 1"
   ]
  },
  {
   "cell_type": "code",
   "execution_count": 522,
   "id": "3fb0de51",
   "metadata": {
    "hidden": true,
    "scrolled": true
   },
   "outputs": [
    {
     "data": {
      "text/html": [
       "<div>\n",
       "<style scoped>\n",
       "    .dataframe tbody tr th:only-of-type {\n",
       "        vertical-align: middle;\n",
       "    }\n",
       "\n",
       "    .dataframe tbody tr th {\n",
       "        vertical-align: top;\n",
       "    }\n",
       "\n",
       "    .dataframe thead th {\n",
       "        text-align: right;\n",
       "    }\n",
       "</style>\n",
       "<table border=\"1\" class=\"dataframe\">\n",
       "  <thead>\n",
       "    <tr style=\"text-align: right;\">\n",
       "      <th></th>\n",
       "      <th>timestamp</th>\n",
       "      <th>customer_no</th>\n",
       "      <th>location</th>\n",
       "      <th>customer</th>\n",
       "      <th>hour</th>\n",
       "      <th>count</th>\n",
       "    </tr>\n",
       "  </thead>\n",
       "  <tbody>\n",
       "    <tr>\n",
       "      <th>0</th>\n",
       "      <td>2019-09-02 07:03:00</td>\n",
       "      <td>1</td>\n",
       "      <td>dairy</td>\n",
       "      <td>Mo1</td>\n",
       "      <td>7</td>\n",
       "      <td>1</td>\n",
       "    </tr>\n",
       "    <tr>\n",
       "      <th>1</th>\n",
       "      <td>2019-09-02 07:03:00</td>\n",
       "      <td>2</td>\n",
       "      <td>dairy</td>\n",
       "      <td>Mo2</td>\n",
       "      <td>7</td>\n",
       "      <td>1</td>\n",
       "    </tr>\n",
       "    <tr>\n",
       "      <th>2</th>\n",
       "      <td>2019-09-02 07:04:00</td>\n",
       "      <td>3</td>\n",
       "      <td>dairy</td>\n",
       "      <td>Mo3</td>\n",
       "      <td>7</td>\n",
       "      <td>1</td>\n",
       "    </tr>\n",
       "    <tr>\n",
       "      <th>3</th>\n",
       "      <td>2019-09-02 07:04:00</td>\n",
       "      <td>4</td>\n",
       "      <td>dairy</td>\n",
       "      <td>Mo4</td>\n",
       "      <td>7</td>\n",
       "      <td>1</td>\n",
       "    </tr>\n",
       "    <tr>\n",
       "      <th>4</th>\n",
       "      <td>2019-09-02 07:04:00</td>\n",
       "      <td>5</td>\n",
       "      <td>spices</td>\n",
       "      <td>Mo5</td>\n",
       "      <td>7</td>\n",
       "      <td>1</td>\n",
       "    </tr>\n",
       "    <tr>\n",
       "      <th>...</th>\n",
       "      <td>...</td>\n",
       "      <td>...</td>\n",
       "      <td>...</td>\n",
       "      <td>...</td>\n",
       "      <td>...</td>\n",
       "      <td>...</td>\n",
       "    </tr>\n",
       "    <tr>\n",
       "      <th>4867</th>\n",
       "      <td>2019-09-02 21:47:00</td>\n",
       "      <td>1443</td>\n",
       "      <td>fruit</td>\n",
       "      <td>Mo1443</td>\n",
       "      <td>21</td>\n",
       "      <td>1</td>\n",
       "    </tr>\n",
       "    <tr>\n",
       "      <th>4874</th>\n",
       "      <td>2019-09-02 21:48:00</td>\n",
       "      <td>1444</td>\n",
       "      <td>spices</td>\n",
       "      <td>Mo1444</td>\n",
       "      <td>21</td>\n",
       "      <td>1</td>\n",
       "    </tr>\n",
       "    <tr>\n",
       "      <th>4881</th>\n",
       "      <td>2019-09-02 21:49:00</td>\n",
       "      <td>1445</td>\n",
       "      <td>dairy</td>\n",
       "      <td>Mo1445</td>\n",
       "      <td>21</td>\n",
       "      <td>1</td>\n",
       "    </tr>\n",
       "    <tr>\n",
       "      <th>4882</th>\n",
       "      <td>2019-09-02 21:50:00</td>\n",
       "      <td>1446</td>\n",
       "      <td>dairy</td>\n",
       "      <td>Mo1446</td>\n",
       "      <td>21</td>\n",
       "      <td>1</td>\n",
       "    </tr>\n",
       "    <tr>\n",
       "      <th>4883</th>\n",
       "      <td>2019-09-02 21:50:00</td>\n",
       "      <td>1447</td>\n",
       "      <td>fruit</td>\n",
       "      <td>Mo1447</td>\n",
       "      <td>21</td>\n",
       "      <td>1</td>\n",
       "    </tr>\n",
       "  </tbody>\n",
       "</table>\n",
       "<p>1447 rows × 6 columns</p>\n",
       "</div>"
      ],
      "text/plain": [
       "                timestamp  customer_no location customer  hour  count\n",
       "0     2019-09-02 07:03:00            1    dairy      Mo1     7      1\n",
       "1     2019-09-02 07:03:00            2    dairy      Mo2     7      1\n",
       "2     2019-09-02 07:04:00            3    dairy      Mo3     7      1\n",
       "3     2019-09-02 07:04:00            4    dairy      Mo4     7      1\n",
       "4     2019-09-02 07:04:00            5   spices      Mo5     7      1\n",
       "...                   ...          ...      ...      ...   ...    ...\n",
       "4867  2019-09-02 21:47:00         1443    fruit   Mo1443    21      1\n",
       "4874  2019-09-02 21:48:00         1444   spices   Mo1444    21      1\n",
       "4881  2019-09-02 21:49:00         1445    dairy   Mo1445    21      1\n",
       "4882  2019-09-02 21:50:00         1446    dairy   Mo1446    21      1\n",
       "4883  2019-09-02 21:50:00         1447    fruit   Mo1447    21      1\n",
       "\n",
       "[1447 rows x 6 columns]"
      ]
     },
     "execution_count": 522,
     "metadata": {},
     "output_type": "execute_result"
    }
   ],
   "source": [
    "time"
   ]
  },
  {
   "cell_type": "code",
   "execution_count": 523,
   "id": "b6b0c95a",
   "metadata": {
    "hidden": true
   },
   "outputs": [
    {
     "data": {
      "text/plain": [
       "<AxesSubplot:xlabel='hour', ylabel='count'>"
      ]
     },
     "execution_count": 523,
     "metadata": {},
     "output_type": "execute_result"
    },
    {
     "data": {
      "image/png": "[encoded data removed]",
      "text/plain": [
       "<Figure size 1080x576 with 1 Axes>"
      ]
     },
     "metadata": {},
     "output_type": "display_data"
    }
   ],
   "source": [
    "customers_overtime = time.groupby(['hour'])['count'].sum().reset_index()\n",
    "sns.barplot(x='hour', y='count', data=customers_overtime)"
   ]
  },
  {
   "cell_type": "markdown",
   "id": "e8e11326",
   "metadata": {},
   "source": [
    "## Transition Probability Matrix"
   ]
  },
  {
   "cell_type": "markdown",
   "id": "c05cb20e",
   "metadata": {},
   "source": [
    "- Our business managers think that the first section customers visit follows a different pattern than the following ones. Plot the distribution of customers of their first visited section versus following sections (treat all sections visited after the first as “following”)."
   ]
  },
  {
   "cell_type": "code",
   "execution_count": 524,
   "id": "04e1c94b",
   "metadata": {},
   "outputs": [
    {
     "data": {
      "text/html": [
       "<div>\n",
       "<style scoped>\n",
       "    .dataframe tbody tr th:only-of-type {\n",
       "        vertical-align: middle;\n",
       "    }\n",
       "\n",
       "    .dataframe tbody tr th {\n",
       "        vertical-align: top;\n",
       "    }\n",
       "\n",
       "    .dataframe thead th {\n",
       "        text-align: right;\n",
       "    }\n",
       "</style>\n",
       "<table border=\"1\" class=\"dataframe\">\n",
       "  <thead>\n",
       "    <tr style=\"text-align: right;\">\n",
       "      <th></th>\n",
       "      <th>index</th>\n",
       "      <th>timestamp</th>\n",
       "      <th>customer_no</th>\n",
       "      <th>location</th>\n",
       "      <th>customer</th>\n",
       "      <th>date</th>\n",
       "      <th>time</th>\n",
       "    </tr>\n",
       "  </thead>\n",
       "  <tbody>\n",
       "    <tr>\n",
       "      <th>0</th>\n",
       "      <td>0</td>\n",
       "      <td>2019-09-02 07:03:00</td>\n",
       "      <td>1</td>\n",
       "      <td>dairy</td>\n",
       "      <td>Mo1</td>\n",
       "      <td>2019-09-02</td>\n",
       "      <td>07:03:00</td>\n",
       "    </tr>\n",
       "    <tr>\n",
       "      <th>1</th>\n",
       "      <td>1</td>\n",
       "      <td>2019-09-02 07:03:00</td>\n",
       "      <td>2</td>\n",
       "      <td>dairy</td>\n",
       "      <td>Mo2</td>\n",
       "      <td>2019-09-02</td>\n",
       "      <td>07:03:00</td>\n",
       "    </tr>\n",
       "    <tr>\n",
       "      <th>2</th>\n",
       "      <td>2</td>\n",
       "      <td>2019-09-02 07:04:00</td>\n",
       "      <td>3</td>\n",
       "      <td>dairy</td>\n",
       "      <td>Mo3</td>\n",
       "      <td>2019-09-02</td>\n",
       "      <td>07:04:00</td>\n",
       "    </tr>\n",
       "    <tr>\n",
       "      <th>3</th>\n",
       "      <td>3</td>\n",
       "      <td>2019-09-02 07:04:00</td>\n",
       "      <td>4</td>\n",
       "      <td>dairy</td>\n",
       "      <td>Mo4</td>\n",
       "      <td>2019-09-02</td>\n",
       "      <td>07:04:00</td>\n",
       "    </tr>\n",
       "    <tr>\n",
       "      <th>4</th>\n",
       "      <td>4</td>\n",
       "      <td>2019-09-02 07:04:00</td>\n",
       "      <td>5</td>\n",
       "      <td>spices</td>\n",
       "      <td>Mo5</td>\n",
       "      <td>2019-09-02</td>\n",
       "      <td>07:04:00</td>\n",
       "    </tr>\n",
       "    <tr>\n",
       "      <th>...</th>\n",
       "      <td>...</td>\n",
       "      <td>...</td>\n",
       "      <td>...</td>\n",
       "      <td>...</td>\n",
       "      <td>...</td>\n",
       "      <td>...</td>\n",
       "      <td>...</td>\n",
       "    </tr>\n",
       "    <tr>\n",
       "      <th>24872</th>\n",
       "      <td>5120</td>\n",
       "      <td>2019-09-06 21:50:00</td>\n",
       "      <td>1500</td>\n",
       "      <td>dairy</td>\n",
       "      <td>Fr1500</td>\n",
       "      <td>2019-09-06</td>\n",
       "      <td>21:50:00</td>\n",
       "    </tr>\n",
       "    <tr>\n",
       "      <th>24873</th>\n",
       "      <td>5121</td>\n",
       "      <td>2019-09-06 21:50:00</td>\n",
       "      <td>1507</td>\n",
       "      <td>checkout</td>\n",
       "      <td>Fr1507</td>\n",
       "      <td>2019-09-06</td>\n",
       "      <td>21:50:00</td>\n",
       "    </tr>\n",
       "    <tr>\n",
       "      <th>24874</th>\n",
       "      <td>5122</td>\n",
       "      <td>2019-09-06 21:50:00</td>\n",
       "      <td>1508</td>\n",
       "      <td>checkout</td>\n",
       "      <td>Fr1508</td>\n",
       "      <td>2019-09-06</td>\n",
       "      <td>21:50:00</td>\n",
       "    </tr>\n",
       "    <tr>\n",
       "      <th>24875</th>\n",
       "      <td>5123</td>\n",
       "      <td>2019-09-06 21:50:00</td>\n",
       "      <td>1509</td>\n",
       "      <td>drinks</td>\n",
       "      <td>Fr1509</td>\n",
       "      <td>2019-09-06</td>\n",
       "      <td>21:50:00</td>\n",
       "    </tr>\n",
       "    <tr>\n",
       "      <th>24876</th>\n",
       "      <td>5124</td>\n",
       "      <td>2019-09-06 21:50:00</td>\n",
       "      <td>1510</td>\n",
       "      <td>spices</td>\n",
       "      <td>Fr1510</td>\n",
       "      <td>2019-09-06</td>\n",
       "      <td>21:50:00</td>\n",
       "    </tr>\n",
       "  </tbody>\n",
       "</table>\n",
       "<p>24877 rows × 7 columns</p>\n",
       "</div>"
      ],
      "text/plain": [
       "       index            timestamp  customer_no  location customer        date  \\\n",
       "0          0  2019-09-02 07:03:00            1     dairy      Mo1  2019-09-02   \n",
       "1          1  2019-09-02 07:03:00            2     dairy      Mo2  2019-09-02   \n",
       "2          2  2019-09-02 07:04:00            3     dairy      Mo3  2019-09-02   \n",
       "3          3  2019-09-02 07:04:00            4     dairy      Mo4  2019-09-02   \n",
       "4          4  2019-09-02 07:04:00            5    spices      Mo5  2019-09-02   \n",
       "...      ...                  ...          ...       ...      ...         ...   \n",
       "24872   5120  2019-09-06 21:50:00         1500     dairy   Fr1500  2019-09-06   \n",
       "24873   5121  2019-09-06 21:50:00         1507  checkout   Fr1507  2019-09-06   \n",
       "24874   5122  2019-09-06 21:50:00         1508  checkout   Fr1508  2019-09-06   \n",
       "24875   5123  2019-09-06 21:50:00         1509    drinks   Fr1509  2019-09-06   \n",
       "24876   5124  2019-09-06 21:50:00         1510    spices   Fr1510  2019-09-06   \n",
       "\n",
       "           time  \n",
       "0      07:03:00  \n",
       "1      07:03:00  \n",
       "2      07:04:00  \n",
       "3      07:04:00  \n",
       "4      07:04:00  \n",
       "...         ...  \n",
       "24872  21:50:00  \n",
       "24873  21:50:00  \n",
       "24874  21:50:00  \n",
       "24875  21:50:00  \n",
       "24876  21:50:00  \n",
       "\n",
       "[24877 rows x 7 columns]"
      ]
     },
     "execution_count": 524,
     "metadata": {},
     "output_type": "execute_result"
    }
   ],
   "source": [
    "week"
   ]
  },
  {
   "cell_type": "code",
   "execution_count": 525,
   "id": "c301966e",
   "metadata": {},
   "outputs": [
    {
     "data": {
      "text/html": [
       "<div>\n",
       "<style scoped>\n",
       "    .dataframe tbody tr th:only-of-type {\n",
       "        vertical-align: middle;\n",
       "    }\n",
       "\n",
       "    .dataframe tbody tr th {\n",
       "        vertical-align: top;\n",
       "    }\n",
       "\n",
       "    .dataframe thead th {\n",
       "        text-align: right;\n",
       "    }\n",
       "</style>\n",
       "<table border=\"1\" class=\"dataframe\">\n",
       "  <thead>\n",
       "    <tr style=\"text-align: right;\">\n",
       "      <th></th>\n",
       "      <th>index</th>\n",
       "      <th>timestamp</th>\n",
       "      <th>customer_no</th>\n",
       "      <th>location</th>\n",
       "      <th>customer</th>\n",
       "      <th>date</th>\n",
       "      <th>time</th>\n",
       "    </tr>\n",
       "  </thead>\n",
       "  <tbody>\n",
       "    <tr>\n",
       "      <th>19752</th>\n",
       "      <td>0</td>\n",
       "      <td>2019-09-06 07:00:00</td>\n",
       "      <td>1</td>\n",
       "      <td>dairy</td>\n",
       "      <td>Fr1</td>\n",
       "      <td>2019-09-06</td>\n",
       "      <td>07:00:00</td>\n",
       "    </tr>\n",
       "    <tr>\n",
       "      <th>19764</th>\n",
       "      <td>12</td>\n",
       "      <td>2019-09-06 07:04:00</td>\n",
       "      <td>1</td>\n",
       "      <td>spices</td>\n",
       "      <td>Fr1</td>\n",
       "      <td>2019-09-06</td>\n",
       "      <td>07:04:00</td>\n",
       "    </tr>\n",
       "    <tr>\n",
       "      <th>19767</th>\n",
       "      <td>15</td>\n",
       "      <td>2019-09-06 07:05:00</td>\n",
       "      <td>1</td>\n",
       "      <td>checkout</td>\n",
       "      <td>Fr1</td>\n",
       "      <td>2019-09-06</td>\n",
       "      <td>07:05:00</td>\n",
       "    </tr>\n",
       "  </tbody>\n",
       "</table>\n",
       "</div>"
      ],
      "text/plain": [
       "       index            timestamp  customer_no  location customer        date  \\\n",
       "19752      0  2019-09-06 07:00:00            1     dairy      Fr1  2019-09-06   \n",
       "19764     12  2019-09-06 07:04:00            1    spices      Fr1  2019-09-06   \n",
       "19767     15  2019-09-06 07:05:00            1  checkout      Fr1  2019-09-06   \n",
       "\n",
       "           time  \n",
       "19752  07:00:00  \n",
       "19764  07:04:00  \n",
       "19767  07:05:00  "
      ]
     },
     "execution_count": 525,
     "metadata": {},
     "output_type": "execute_result"
    }
   ],
   "source": [
    "week.loc[week['customer']=='Fr1']"
   ]
  },
  {
   "cell_type": "code",
   "execution_count": 526,
   "id": "d627e25e",
   "metadata": {},
   "outputs": [
    {
     "data": {
      "text/html": [
       "<div>\n",
       "<style scoped>\n",
       "    .dataframe tbody tr th:only-of-type {\n",
       "        vertical-align: middle;\n",
       "    }\n",
       "\n",
       "    .dataframe tbody tr th {\n",
       "        vertical-align: top;\n",
       "    }\n",
       "\n",
       "    .dataframe thead th {\n",
       "        text-align: right;\n",
       "    }\n",
       "</style>\n",
       "<table border=\"1\" class=\"dataframe\">\n",
       "  <thead>\n",
       "    <tr style=\"text-align: right;\">\n",
       "      <th></th>\n",
       "      <th>index</th>\n",
       "      <th>timestamp</th>\n",
       "      <th>customer_no</th>\n",
       "      <th>location</th>\n",
       "      <th>customer</th>\n",
       "      <th>date</th>\n",
       "      <th>time</th>\n",
       "      <th>after</th>\n",
       "    </tr>\n",
       "  </thead>\n",
       "  <tbody>\n",
       "    <tr>\n",
       "      <th>0</th>\n",
       "      <td>0</td>\n",
       "      <td>2019-09-02 07:03:00</td>\n",
       "      <td>1</td>\n",
       "      <td>dairy</td>\n",
       "      <td>Mo1</td>\n",
       "      <td>2019-09-02</td>\n",
       "      <td>07:03:00</td>\n",
       "      <td>checkout</td>\n",
       "    </tr>\n",
       "    <tr>\n",
       "      <th>1</th>\n",
       "      <td>1</td>\n",
       "      <td>2019-09-02 07:03:00</td>\n",
       "      <td>2</td>\n",
       "      <td>dairy</td>\n",
       "      <td>Mo2</td>\n",
       "      <td>2019-09-02</td>\n",
       "      <td>07:03:00</td>\n",
       "      <td>checkout</td>\n",
       "    </tr>\n",
       "    <tr>\n",
       "      <th>2</th>\n",
       "      <td>2</td>\n",
       "      <td>2019-09-02 07:04:00</td>\n",
       "      <td>3</td>\n",
       "      <td>dairy</td>\n",
       "      <td>Mo3</td>\n",
       "      <td>2019-09-02</td>\n",
       "      <td>07:04:00</td>\n",
       "      <td>checkout</td>\n",
       "    </tr>\n",
       "    <tr>\n",
       "      <th>3</th>\n",
       "      <td>3</td>\n",
       "      <td>2019-09-02 07:04:00</td>\n",
       "      <td>4</td>\n",
       "      <td>dairy</td>\n",
       "      <td>Mo4</td>\n",
       "      <td>2019-09-02</td>\n",
       "      <td>07:04:00</td>\n",
       "      <td>checkout</td>\n",
       "    </tr>\n",
       "    <tr>\n",
       "      <th>4</th>\n",
       "      <td>4</td>\n",
       "      <td>2019-09-02 07:04:00</td>\n",
       "      <td>5</td>\n",
       "      <td>spices</td>\n",
       "      <td>Mo5</td>\n",
       "      <td>2019-09-02</td>\n",
       "      <td>07:04:00</td>\n",
       "      <td>checkout</td>\n",
       "    </tr>\n",
       "    <tr>\n",
       "      <th>...</th>\n",
       "      <td>...</td>\n",
       "      <td>...</td>\n",
       "      <td>...</td>\n",
       "      <td>...</td>\n",
       "      <td>...</td>\n",
       "      <td>...</td>\n",
       "      <td>...</td>\n",
       "      <td>...</td>\n",
       "    </tr>\n",
       "    <tr>\n",
       "      <th>24872</th>\n",
       "      <td>5120</td>\n",
       "      <td>2019-09-06 21:50:00</td>\n",
       "      <td>1500</td>\n",
       "      <td>dairy</td>\n",
       "      <td>Fr1500</td>\n",
       "      <td>2019-09-06</td>\n",
       "      <td>21:50:00</td>\n",
       "      <td>NaN</td>\n",
       "    </tr>\n",
       "    <tr>\n",
       "      <th>24873</th>\n",
       "      <td>5121</td>\n",
       "      <td>2019-09-06 21:50:00</td>\n",
       "      <td>1507</td>\n",
       "      <td>checkout</td>\n",
       "      <td>Fr1507</td>\n",
       "      <td>2019-09-06</td>\n",
       "      <td>21:50:00</td>\n",
       "      <td>NaN</td>\n",
       "    </tr>\n",
       "    <tr>\n",
       "      <th>24874</th>\n",
       "      <td>5122</td>\n",
       "      <td>2019-09-06 21:50:00</td>\n",
       "      <td>1508</td>\n",
       "      <td>checkout</td>\n",
       "      <td>Fr1508</td>\n",
       "      <td>2019-09-06</td>\n",
       "      <td>21:50:00</td>\n",
       "      <td>NaN</td>\n",
       "    </tr>\n",
       "    <tr>\n",
       "      <th>24875</th>\n",
       "      <td>5123</td>\n",
       "      <td>2019-09-06 21:50:00</td>\n",
       "      <td>1509</td>\n",
       "      <td>drinks</td>\n",
       "      <td>Fr1509</td>\n",
       "      <td>2019-09-06</td>\n",
       "      <td>21:50:00</td>\n",
       "      <td>NaN</td>\n",
       "    </tr>\n",
       "    <tr>\n",
       "      <th>24876</th>\n",
       "      <td>5124</td>\n",
       "      <td>2019-09-06 21:50:00</td>\n",
       "      <td>1510</td>\n",
       "      <td>spices</td>\n",
       "      <td>Fr1510</td>\n",
       "      <td>2019-09-06</td>\n",
       "      <td>21:50:00</td>\n",
       "      <td>NaN</td>\n",
       "    </tr>\n",
       "  </tbody>\n",
       "</table>\n",
       "<p>24877 rows × 8 columns</p>\n",
       "</div>"
      ],
      "text/plain": [
       "       index            timestamp  customer_no  location customer        date  \\\n",
       "0          0  2019-09-02 07:03:00            1     dairy      Mo1  2019-09-02   \n",
       "1          1  2019-09-02 07:03:00            2     dairy      Mo2  2019-09-02   \n",
       "2          2  2019-09-02 07:04:00            3     dairy      Mo3  2019-09-02   \n",
       "3          3  2019-09-02 07:04:00            4     dairy      Mo4  2019-09-02   \n",
       "4          4  2019-09-02 07:04:00            5    spices      Mo5  2019-09-02   \n",
       "...      ...                  ...          ...       ...      ...         ...   \n",
       "24872   5120  2019-09-06 21:50:00         1500     dairy   Fr1500  2019-09-06   \n",
       "24873   5121  2019-09-06 21:50:00         1507  checkout   Fr1507  2019-09-06   \n",
       "24874   5122  2019-09-06 21:50:00         1508  checkout   Fr1508  2019-09-06   \n",
       "24875   5123  2019-09-06 21:50:00         1509    drinks   Fr1509  2019-09-06   \n",
       "24876   5124  2019-09-06 21:50:00         1510    spices   Fr1510  2019-09-06   \n",
       "\n",
       "           time     after  \n",
       "0      07:03:00  checkout  \n",
       "1      07:03:00  checkout  \n",
       "2      07:04:00  checkout  \n",
       "3      07:04:00  checkout  \n",
       "4      07:04:00  checkout  \n",
       "...         ...       ...  \n",
       "24872  21:50:00       NaN  \n",
       "24873  21:50:00       NaN  \n",
       "24874  21:50:00       NaN  \n",
       "24875  21:50:00       NaN  \n",
       "24876  21:50:00       NaN  \n",
       "\n",
       "[24877 rows x 8 columns]"
      ]
     },
     "execution_count": 526,
     "metadata": {},
     "output_type": "execute_result"
    }
   ],
   "source": [
    "week['after'] = week.groupby(['customer'])['location'].shift(-1)\n",
    "week"
   ]
  },
  {
   "cell_type": "code",
   "execution_count": 527,
   "id": "0ca84f53",
   "metadata": {},
   "outputs": [
    {
     "data": {
      "text/plain": [
       "checkout    7417\n",
       "fruit       5122\n",
       "dairy       4679\n",
       "drinks      3905\n",
       "spices      3754\n",
       "Name: location, dtype: int64"
      ]
     },
     "execution_count": 527,
     "metadata": {},
     "output_type": "execute_result"
    }
   ],
   "source": [
    "week['location'].value_counts()"
   ]
  },
  {
   "cell_type": "code",
   "execution_count": 528,
   "id": "8784e874",
   "metadata": {
    "scrolled": true
   },
   "outputs": [
    {
     "data": {
      "text/plain": [
       "checkout    7417\n",
       "drinks      2762\n",
       "dairy       2538\n",
       "spices      2403\n",
       "fruit       2312\n",
       "Name: after, dtype: int64"
      ]
     },
     "execution_count": 528,
     "metadata": {},
     "output_type": "execute_result"
    }
   ],
   "source": [
    "week['after'].value_counts()"
   ]
  },
  {
   "cell_type": "code",
   "execution_count": 532,
   "id": "f2bfc4ae",
   "metadata": {},
   "outputs": [
    {
     "data": {
      "text/plain": [
       "0"
      ]
     },
     "execution_count": 532,
     "metadata": {},
     "output_type": "execute_result"
    }
   ],
   "source": [
    "week['after'].isnull().sum()"
   ]
  },
  {
   "cell_type": "code",
   "execution_count": 531,
   "id": "b5abca75",
   "metadata": {},
   "outputs": [
    {
     "data": {
      "text/html": [
       "<div>\n",
       "<style scoped>\n",
       "    .dataframe tbody tr th:only-of-type {\n",
       "        vertical-align: middle;\n",
       "    }\n",
       "\n",
       "    .dataframe tbody tr th {\n",
       "        vertical-align: top;\n",
       "    }\n",
       "\n",
       "    .dataframe thead th {\n",
       "        text-align: right;\n",
       "    }\n",
       "</style>\n",
       "<table border=\"1\" class=\"dataframe\">\n",
       "  <thead>\n",
       "    <tr style=\"text-align: right;\">\n",
       "      <th></th>\n",
       "      <th>index</th>\n",
       "      <th>timestamp</th>\n",
       "      <th>customer_no</th>\n",
       "      <th>location</th>\n",
       "      <th>customer</th>\n",
       "      <th>date</th>\n",
       "      <th>time</th>\n",
       "      <th>after</th>\n",
       "    </tr>\n",
       "  </thead>\n",
       "  <tbody>\n",
       "    <tr>\n",
       "      <th>0</th>\n",
       "      <td>0</td>\n",
       "      <td>2019-09-02 07:03:00</td>\n",
       "      <td>1</td>\n",
       "      <td>dairy</td>\n",
       "      <td>Mo1</td>\n",
       "      <td>2019-09-02</td>\n",
       "      <td>07:03:00</td>\n",
       "      <td>checkout</td>\n",
       "    </tr>\n",
       "    <tr>\n",
       "      <th>1</th>\n",
       "      <td>1</td>\n",
       "      <td>2019-09-02 07:03:00</td>\n",
       "      <td>2</td>\n",
       "      <td>dairy</td>\n",
       "      <td>Mo2</td>\n",
       "      <td>2019-09-02</td>\n",
       "      <td>07:03:00</td>\n",
       "      <td>checkout</td>\n",
       "    </tr>\n",
       "    <tr>\n",
       "      <th>2</th>\n",
       "      <td>2</td>\n",
       "      <td>2019-09-02 07:04:00</td>\n",
       "      <td>3</td>\n",
       "      <td>dairy</td>\n",
       "      <td>Mo3</td>\n",
       "      <td>2019-09-02</td>\n",
       "      <td>07:04:00</td>\n",
       "      <td>checkout</td>\n",
       "    </tr>\n",
       "    <tr>\n",
       "      <th>3</th>\n",
       "      <td>3</td>\n",
       "      <td>2019-09-02 07:04:00</td>\n",
       "      <td>4</td>\n",
       "      <td>dairy</td>\n",
       "      <td>Mo4</td>\n",
       "      <td>2019-09-02</td>\n",
       "      <td>07:04:00</td>\n",
       "      <td>checkout</td>\n",
       "    </tr>\n",
       "    <tr>\n",
       "      <th>4</th>\n",
       "      <td>4</td>\n",
       "      <td>2019-09-02 07:04:00</td>\n",
       "      <td>5</td>\n",
       "      <td>spices</td>\n",
       "      <td>Mo5</td>\n",
       "      <td>2019-09-02</td>\n",
       "      <td>07:04:00</td>\n",
       "      <td>checkout</td>\n",
       "    </tr>\n",
       "    <tr>\n",
       "      <th>...</th>\n",
       "      <td>...</td>\n",
       "      <td>...</td>\n",
       "      <td>...</td>\n",
       "      <td>...</td>\n",
       "      <td>...</td>\n",
       "      <td>...</td>\n",
       "      <td>...</td>\n",
       "      <td>...</td>\n",
       "    </tr>\n",
       "    <tr>\n",
       "      <th>24872</th>\n",
       "      <td>5120</td>\n",
       "      <td>2019-09-06 21:50:00</td>\n",
       "      <td>1500</td>\n",
       "      <td>dairy</td>\n",
       "      <td>Fr1500</td>\n",
       "      <td>2019-09-06</td>\n",
       "      <td>21:50:00</td>\n",
       "      <td>dairy</td>\n",
       "    </tr>\n",
       "    <tr>\n",
       "      <th>24873</th>\n",
       "      <td>5121</td>\n",
       "      <td>2019-09-06 21:50:00</td>\n",
       "      <td>1507</td>\n",
       "      <td>checkout</td>\n",
       "      <td>Fr1507</td>\n",
       "      <td>2019-09-06</td>\n",
       "      <td>21:50:00</td>\n",
       "      <td>checkout</td>\n",
       "    </tr>\n",
       "    <tr>\n",
       "      <th>24874</th>\n",
       "      <td>5122</td>\n",
       "      <td>2019-09-06 21:50:00</td>\n",
       "      <td>1508</td>\n",
       "      <td>checkout</td>\n",
       "      <td>Fr1508</td>\n",
       "      <td>2019-09-06</td>\n",
       "      <td>21:50:00</td>\n",
       "      <td>checkout</td>\n",
       "    </tr>\n",
       "    <tr>\n",
       "      <th>24875</th>\n",
       "      <td>5123</td>\n",
       "      <td>2019-09-06 21:50:00</td>\n",
       "      <td>1509</td>\n",
       "      <td>drinks</td>\n",
       "      <td>Fr1509</td>\n",
       "      <td>2019-09-06</td>\n",
       "      <td>21:50:00</td>\n",
       "      <td>drinks</td>\n",
       "    </tr>\n",
       "    <tr>\n",
       "      <th>24876</th>\n",
       "      <td>5124</td>\n",
       "      <td>2019-09-06 21:50:00</td>\n",
       "      <td>1510</td>\n",
       "      <td>spices</td>\n",
       "      <td>Fr1510</td>\n",
       "      <td>2019-09-06</td>\n",
       "      <td>21:50:00</td>\n",
       "      <td>spices</td>\n",
       "    </tr>\n",
       "  </tbody>\n",
       "</table>\n",
       "<p>24877 rows × 8 columns</p>\n",
       "</div>"
      ],
      "text/plain": [
       "       index            timestamp  customer_no  location customer        date  \\\n",
       "0          0  2019-09-02 07:03:00            1     dairy      Mo1  2019-09-02   \n",
       "1          1  2019-09-02 07:03:00            2     dairy      Mo2  2019-09-02   \n",
       "2          2  2019-09-02 07:04:00            3     dairy      Mo3  2019-09-02   \n",
       "3          3  2019-09-02 07:04:00            4     dairy      Mo4  2019-09-02   \n",
       "4          4  2019-09-02 07:04:00            5    spices      Mo5  2019-09-02   \n",
       "...      ...                  ...          ...       ...      ...         ...   \n",
       "24872   5120  2019-09-06 21:50:00         1500     dairy   Fr1500  2019-09-06   \n",
       "24873   5121  2019-09-06 21:50:00         1507  checkout   Fr1507  2019-09-06   \n",
       "24874   5122  2019-09-06 21:50:00         1508  checkout   Fr1508  2019-09-06   \n",
       "24875   5123  2019-09-06 21:50:00         1509    drinks   Fr1509  2019-09-06   \n",
       "24876   5124  2019-09-06 21:50:00         1510    spices   Fr1510  2019-09-06   \n",
       "\n",
       "           time     after  \n",
       "0      07:03:00  checkout  \n",
       "1      07:03:00  checkout  \n",
       "2      07:04:00  checkout  \n",
       "3      07:04:00  checkout  \n",
       "4      07:04:00  checkout  \n",
       "...         ...       ...  \n",
       "24872  21:50:00     dairy  \n",
       "24873  21:50:00  checkout  \n",
       "24874  21:50:00  checkout  \n",
       "24875  21:50:00    drinks  \n",
       "24876  21:50:00    spices  \n",
       "\n",
       "[24877 rows x 8 columns]"
      ]
     },
     "execution_count": 531,
     "metadata": {},
     "output_type": "execute_result"
    }
   ],
   "source": [
    "week['after'] = week['after'].fillna(week['location'])\n",
    "\n",
    "week"
   ]
  },
  {
   "cell_type": "code",
   "execution_count": 857,
   "id": "242f8797",
   "metadata": {},
   "outputs": [
    {
     "data": {
      "text/html": [
       "<div>\n",
       "<style scoped>\n",
       "    .dataframe tbody tr th:only-of-type {\n",
       "        vertical-align: middle;\n",
       "    }\n",
       "\n",
       "    .dataframe tbody tr th {\n",
       "        vertical-align: top;\n",
       "    }\n",
       "\n",
       "    .dataframe thead th {\n",
       "        text-align: right;\n",
       "    }\n",
       "</style>\n",
       "<table border=\"1\" class=\"dataframe\">\n",
       "  <thead>\n",
       "    <tr style=\"text-align: right;\">\n",
       "      <th>after</th>\n",
       "      <th>checkout</th>\n",
       "      <th>dairy</th>\n",
       "      <th>drinks</th>\n",
       "      <th>fruit</th>\n",
       "      <th>spices</th>\n",
       "    </tr>\n",
       "    <tr>\n",
       "      <th>location</th>\n",
       "      <th></th>\n",
       "      <th></th>\n",
       "      <th></th>\n",
       "      <th></th>\n",
       "      <th></th>\n",
       "    </tr>\n",
       "  </thead>\n",
       "  <tbody>\n",
       "    <tr>\n",
       "      <th>checkout</th>\n",
       "      <td>1.000000</td>\n",
       "      <td>0.000000</td>\n",
       "      <td>0.000000</td>\n",
       "      <td>0.000000</td>\n",
       "      <td>0.000000</td>\n",
       "    </tr>\n",
       "    <tr>\n",
       "      <th>dairy</th>\n",
       "      <td>0.390041</td>\n",
       "      <td>0.002992</td>\n",
       "      <td>0.222483</td>\n",
       "      <td>0.189357</td>\n",
       "      <td>0.195127</td>\n",
       "    </tr>\n",
       "    <tr>\n",
       "      <th>drinks</th>\n",
       "      <td>0.536748</td>\n",
       "      <td>0.027145</td>\n",
       "      <td>0.000512</td>\n",
       "      <td>0.218950</td>\n",
       "      <td>0.216645</td>\n",
       "    </tr>\n",
       "    <tr>\n",
       "      <th>fruit</th>\n",
       "      <td>0.498829</td>\n",
       "      <td>0.237993</td>\n",
       "      <td>0.136080</td>\n",
       "      <td>0.001367</td>\n",
       "      <td>0.125732</td>\n",
       "    </tr>\n",
       "    <tr>\n",
       "      <th>spices</th>\n",
       "      <td>0.250666</td>\n",
       "      <td>0.323122</td>\n",
       "      <td>0.272776</td>\n",
       "      <td>0.152104</td>\n",
       "      <td>0.001332</td>\n",
       "    </tr>\n",
       "  </tbody>\n",
       "</table>\n",
       "</div>"
      ],
      "text/plain": [
       "after     checkout     dairy    drinks     fruit    spices\n",
       "location                                                  \n",
       "checkout  1.000000  0.000000  0.000000  0.000000  0.000000\n",
       "dairy     0.390041  0.002992  0.222483  0.189357  0.195127\n",
       "drinks    0.536748  0.027145  0.000512  0.218950  0.216645\n",
       "fruit     0.498829  0.237993  0.136080  0.001367  0.125732\n",
       "spices    0.250666  0.323122  0.272776  0.152104  0.001332"
      ]
     },
     "execution_count": 857,
     "metadata": {},
     "output_type": "execute_result"
    }
   ],
   "source": [
    "prob = pd.crosstab(week['location'], week['after'], normalize=0)\n",
    "prob"
   ]
  },
  {
   "cell_type": "code",
   "execution_count": 859,
   "id": "995da9df",
   "metadata": {},
   "outputs": [
    {
     "data": {
      "text/plain": [
       "<AxesSubplot:xlabel='after', ylabel='location'>"
      ]
     },
     "execution_count": 859,
     "metadata": {},
     "output_type": "execute_result"
    },
    {
     "data": {
      "image/png": "[encoded data removed]",
      "text/plain": [
       "<Figure size 1080x576 with 2 Axes>"
      ]
     },
     "metadata": {},
     "output_type": "display_data"
    }
   ],
   "source": [
    "sns.heatmap(prob, annot=True, linewidths=.9)"
   ]
  },
  {
   "cell_type": "code",
   "execution_count": 860,
   "id": "3e048ae9",
   "metadata": {},
   "outputs": [
    {
     "data": {
      "text/plain": [
       "(5, 5)"
      ]
     },
     "execution_count": 860,
     "metadata": {},
     "output_type": "execute_result"
    }
   ],
   "source": [
    "prob_array = np.array(prob)\n",
    "prob_array.shape"
   ]
  },
  {
   "cell_type": "code",
   "execution_count": 861,
   "id": "d2b6096e",
   "metadata": {},
   "outputs": [
    {
     "data": {
      "text/plain": [
       "(1.0, 1.0, 0.9999999999999999, 0.9999999999999998)"
      ]
     },
     "execution_count": 861,
     "metadata": {},
     "output_type": "execute_result"
    }
   ],
   "source": [
    "sum(prob_array[1]), sum(prob_array[2]), sum(prob_array[3]), sum(prob_array[4])"
   ]
  },
  {
   "cell_type": "markdown",
   "id": "8d7d850f",
   "metadata": {},
   "source": [
    "## Customer Class"
   ]
  },
  {
   "cell_type": "code",
   "execution_count": 862,
   "id": "15a52fda",
   "metadata": {},
   "outputs": [],
   "source": [
    "class Customer():\n",
    "    '''a single customer that moves through the supermarket in a MCMC simulation'''\n",
    "\n",
    "    def __init__(self, name, budget=100):\n",
    "        self.name = name\n",
    "        self.state = random.choice(['spices', 'drinks', 'fruit', 'dairy'])\n",
    "        self.budget = budget\n",
    "        self.transition_probs = prob ##### transition probs as column for each state to the next one?\n",
    "        \n",
    "    def __repr__(self):\n",
    "        return f'The customer called {self.name} is currently in aisle {self.state}. The budget is {self.budget}'\n",
    "    \n",
    "    def next_state(self):\n",
    "        \n",
    "        aisles = ['checkout', 'dairy', 'drinks', 'fruit', 'spices']\n",
    "        \n",
    "        if self.state == 'dairy':\n",
    "            self.state_new = choice(aisles, 1, p=(prob_array[1]))\n",
    "        elif self.state == 'drinks':\n",
    "            self.state_new = choice(aisles, 1, p=(prob_array[2]))\n",
    "        elif self.state == 'fruit':\n",
    "            self.state_new = choice(aisles, 1, p=(prob_array[3]))\n",
    "        elif self.state == 'spices':\n",
    "            self.state_new = choice(aisles, 1, p=(prob_array[4]))\n",
    "    \n",
    "        print(f'The customer has been in aisle {self.state} and is now in aisle {self.state_new}')\n",
    "       # print(f'The customer {self.name} was in aisle {self.state} and is now in aisle {self.state_new}')\n",
    "        ## modify to do a weighted choice\n",
    "        ## \n",
    "    \n",
    "    def is_active(self):\n",
    "        if self.state_new == 'checkout':\n",
    "            print('True')\n",
    "        else:\n",
    "            print('False')\n",
    "       "
   ]
  },
  {
   "cell_type": "code",
   "execution_count": 867,
   "id": "66ad4d0e",
   "metadata": {},
   "outputs": [],
   "source": [
    "cust1 = Customer(\"Jake\")\n",
    "cust2 = Customer(\"Margaret\", \"spices\")"
   ]
  },
  {
   "cell_type": "code",
   "execution_count": 868,
   "id": "11ad66a2",
   "metadata": {
    "scrolled": true
   },
   "outputs": [
    {
     "data": {
      "text/plain": [
       "'fruit'"
      ]
     },
     "execution_count": 868,
     "metadata": {},
     "output_type": "execute_result"
    }
   ],
   "source": [
    "cust1.state"
   ]
  },
  {
   "cell_type": "code",
   "execution_count": 869,
   "id": "b831db87",
   "metadata": {},
   "outputs": [
    {
     "data": {
      "text/plain": [
       "['checkout', 'dairy', 'drinks', 'fruit', 'spices']"
      ]
     },
     "execution_count": 869,
     "metadata": {},
     "output_type": "execute_result"
    }
   ],
   "source": [
    "aisles = ['checkout', 'dairy', 'drinks', 'fruit', 'spices']\n",
    "aisles"
   ]
  },
  {
   "cell_type": "code",
   "execution_count": 870,
   "id": "5b3d1cfc",
   "metadata": {},
   "outputs": [
    {
     "name": "stdout",
     "output_type": "stream",
     "text": [
      "The customer has been in aisle fruit and is now in aisle ['drinks']\n"
     ]
    }
   ],
   "source": [
    "cust1.next_state()"
   ]
  },
  {
   "cell_type": "markdown",
   "id": "608a9b2a",
   "metadata": {},
   "source": [
    "## Multiple Customer Classes"
   ]
  },
  {
   "cell_type": "code",
   "execution_count": null,
   "id": "00bd1323",
   "metadata": {},
   "outputs": [],
   "source": [
    "from datetime import datetime\n",
    "from tiles_skeleton import SupermarketMap, Customer\n",
    "import random\n",
    "\n",
    "from faker import Faker\n",
    "faker = Faker(use_weighting = False)\n",
    "\n",
    "\n",
    "\n",
    "class Supermarket:\n",
    "    \"\"\"manages multiple Customer instances that are currently in the market.\n",
    "    \"\"\"\n",
    "\n",
    "    def __init__(self):        \n",
    "        # a list of Customer objects\n",
    "        self.customers = []\n",
    "        self.minutes = 0\n",
    "        self.last_id = 0\n",
    "\n",
    "    def __repr__(self):\n",
    "        return 'Supermarket class' # TODO\n",
    "\n",
    "    def get_time(self):\n",
    "        \"\"\"current time in HH:MM format,\n",
    "        \"\"\"\n",
    "        return datetime.now().strftime(\"%H:%M\")\n",
    "\n",
    "    def print_customers(self):\n",
    "        \"\"\"print all customers with the current time and id in CSV format.\n",
    "        \"\"\"\n",
    "        for customer in self.customers:\n",
    "            print(f'{customer},{self.get_time()},{customer.id}')\n",
    "        return None\n",
    "\n",
    "    def next_minute(self):\n",
    "        \"\"\"propagates all customers to the next state.\n",
    "        \"\"\"\n",
    "        for customer in self.customers:\n",
    "            customer.next_state()\n",
    "        return None\n",
    "    \n",
    "    def add_new_customers(self):\n",
    "        \"\"\"randomly creates new customers.\n",
    "        \"\"\"         \n",
    "        return Customer(self.last_id + 1, faker.first_name(), random.choices(['dairy', 'drinks', 'fruit', 'spices']), 200)\n",
    "\n",
    "    def remove_exitsting_customers(self):\n",
    "        \"\"\"removes every customer that is not active any more.\n",
    "        \"\"\"\n",
    "        for customer in self.customers:\n",
    "            if customer.state == ['checkout']:\n",
    "                customer.is_active = False\n",
    "                self.customers.remove(customer.id)\n",
    "                \n",
    "        return None"
   ]
  }
 ],
 "metadata": {
  "kernelspec": {
   "display_name": "Python 3 (ipykernel)",
   "language": "python",
   "name": "python3"
  },
  "language_info": {
   "codemirror_mode": {
    "name": "ipython",
    "version": 3
   },
   "file_extension": ".py",
   "mimetype": "text/x-python",
   "name": "python",
   "nbconvert_exporter": "python",
   "pygments_lexer": "ipython3",
   "version": "3.9.12"
  },
  "toc": {
   "base_numbering": 1,
   "nav_menu": {},
   "number_sections": true,
   "sideBar": true,
   "skip_h1_title": false,
   "title_cell": "Table of Contents",
   "title_sidebar": "Contents",
   "toc_cell": false,
   "toc_position": {
    "height": "calc(100% - 180px)",
    "left": "10px",
    "top": "150px",
    "width": "359px"
   },
   "toc_section_display": true,
   "toc_window_display": true
  }
 },
 "nbformat": 4,
 "nbformat_minor": 5
}
